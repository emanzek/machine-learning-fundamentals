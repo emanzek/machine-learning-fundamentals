{
  "nbformat": 4,
  "nbformat_minor": 0,
  "metadata": {
    "kernelspec": {
      "display_name": "Python 3",
      "language": "python",
      "name": "python3"
    },
    "language_info": {
      "codemirror_mode": {
        "name": "ipython",
        "version": 3
      },
      "file_extension": ".py",
      "mimetype": "text/x-python",
      "name": "python",
      "nbconvert_exporter": "python",
      "pygments_lexer": "ipython3",
      "version": "3.8.3"
    },
    "colab": {
      "name": "01-0_NumPy Quickstart.ipynb",
      "provenance": []
    }
  },
  "cells": [
    {
      "cell_type": "code",
      "metadata": {
        "deletable": false,
        "editable": false,
        "id": "hs95OWvfd4FJ"
      },
      "source": [
        "# Copyright (c) 2019 Skymind AI Bhd.\n",
        "# Copyright (c) 2020 CertifAI Sdn. Bhd.\n",
        "#\n",
        "# This program and the accompanying materials are made available under the\n",
        "# terms of the Apache License, Version 2.0 which is available at\n",
        "# https://www.apache.org/licenses/LICENSE-2.0.\n",
        "# Unless required by applicable law or agreed to in writing, software\n",
        "# distributed under the License is distributed on an \"AS IS\" BASIS, WITHOUT\n",
        "# WARRANTIES OR CONDITIONS OF ANY KIND, either express or implied. See the\n",
        "# License for the specific language governing permissions and limitations\n",
        "# under the License.\n",
        "#\n",
        "# SPDX-License-Identifier: Apache-2.0"
      ],
      "execution_count": null,
      "outputs": []
    },
    {
      "cell_type": "markdown",
      "metadata": {
        "id": "aXXnXEkOd4FN"
      },
      "source": [
        "# NumPy Quickstart "
      ]
    },
    {
      "cell_type": "markdown",
      "metadata": {
        "id": "w00DnPFjd4FP"
      },
      "source": [
        "We will use the **NumPy** module to create and apply mathematical operations on matrices."
      ]
    },
    {
      "cell_type": "code",
      "metadata": {
        "id": "KdhS2BZTd4FQ"
      },
      "source": [
        "import numpy as np"
      ],
      "execution_count": null,
      "outputs": []
    },
    {
      "cell_type": "markdown",
      "metadata": {
        "id": "rrUAVibOd4FQ"
      },
      "source": [
        "Create a simple array of integers"
      ]
    },
    {
      "cell_type": "code",
      "metadata": {
        "id": "be-nwbKwd4FR"
      },
      "source": [
        "array_1d = np.arange(0, 10)"
      ],
      "execution_count": null,
      "outputs": []
    },
    {
      "cell_type": "markdown",
      "metadata": {
        "id": "fIOcFGgwd4FR"
      },
      "source": [
        "The function `arange` creates an array from `range(0,10)`. The `arange()` function is similar to that of Python's `range()`."
      ]
    },
    {
      "cell_type": "code",
      "metadata": {
        "id": "zRKXGqR-d4FS",
        "outputId": "05648527-0d4e-4a1b-e0eb-131d0bf07247"
      },
      "source": [
        "array_1d"
      ],
      "execution_count": null,
      "outputs": [
        {
          "data": {
            "text/plain": [
              "array([0, 1, 2, 3, 4, 5, 6, 7, 8, 9])"
            ]
          },
          "execution_count": 4,
          "metadata": {},
          "output_type": "execute_result"
        }
      ]
    },
    {
      "cell_type": "markdown",
      "metadata": {
        "id": "naXUF7xFd4FT"
      },
      "source": [
        "Create a $2\\times2$ matrix. (2-dimensional array)"
      ]
    },
    {
      "cell_type": "code",
      "metadata": {
        "id": "bqDwjL-fd4FU"
      },
      "source": [
        "array_2d = np.array([[1, 2], [3, 4]])"
      ],
      "execution_count": null,
      "outputs": []
    },
    {
      "cell_type": "code",
      "metadata": {
        "id": "JMc3y1dsd4FV",
        "outputId": "e7aad0d9-d10a-4d1a-c5fc-959ede4a2d41"
      },
      "source": [
        "array_2d"
      ],
      "execution_count": null,
      "outputs": [
        {
          "data": {
            "text/plain": [
              "array([[1, 2],\n",
              "       [3, 4]])"
            ]
          },
          "execution_count": 6,
          "metadata": {},
          "output_type": "execute_result"
        }
      ]
    },
    {
      "cell_type": "markdown",
      "metadata": {
        "id": "neRiYo4Dd4FV"
      },
      "source": [
        "Create a $3\\times 3$ matrix."
      ]
    },
    {
      "cell_type": "code",
      "metadata": {
        "id": "7pQ-L-r3d4FV"
      },
      "source": [
        "array_3x3 = np.array([[1, 2, 3], [4, 5, 6], [7, 8, 9]])"
      ],
      "execution_count": null,
      "outputs": []
    },
    {
      "cell_type": "code",
      "metadata": {
        "id": "EITccpFMd4FW",
        "outputId": "ced82f0c-0fa9-459d-dedf-9ee520bea700"
      },
      "source": [
        "array_3x3"
      ],
      "execution_count": null,
      "outputs": [
        {
          "data": {
            "text/plain": [
              "array([[1, 2, 3],\n",
              "       [4, 5, 6],\n",
              "       [7, 8, 9]])"
            ]
          },
          "execution_count": 8,
          "metadata": {},
          "output_type": "execute_result"
        }
      ]
    },
    {
      "cell_type": "markdown",
      "metadata": {
        "id": "h9-jdBCLd4FX"
      },
      "source": [
        "Perform addition of two $3\\times 3$ matrices."
      ]
    },
    {
      "cell_type": "code",
      "metadata": {
        "id": "DW0Ncey5d4FX"
      },
      "source": [
        "matrixA = np.array([[1, 1, 1], [1, 1, 1], [1, 1, 1]])\n",
        "matrixB = np.array([[1, 1, 1], [1, 1, 1], [1, 1, 1]])"
      ],
      "execution_count": null,
      "outputs": []
    },
    {
      "cell_type": "code",
      "metadata": {
        "id": "0EbppRijd4FX",
        "outputId": "ffd5bdab-9dba-4c25-e794-5eafd41ee076"
      },
      "source": [
        "print(np.add(matrixA,matrixB))"
      ],
      "execution_count": null,
      "outputs": [
        {
          "name": "stdout",
          "output_type": "stream",
          "text": [
            "[[2 2 2]\n",
            " [2 2 2]\n",
            " [2 2 2]]\n"
          ]
        }
      ]
    },
    {
      "cell_type": "markdown",
      "metadata": {
        "id": "Ev-SnzZId4FX"
      },
      "source": [
        "Perform subtraction of two $3\\times 3$ matrices."
      ]
    },
    {
      "cell_type": "code",
      "metadata": {
        "id": "L9uMM8KSd4FY"
      },
      "source": [
        "matrixA = np.array([[2, 2, 2], [2, 2, 2], [2, 2, 2]])\n",
        "matrixB = np.array([[1, 1, 1], [1, 1, 1], [1, 1, 1]])"
      ],
      "execution_count": null,
      "outputs": []
    },
    {
      "cell_type": "code",
      "metadata": {
        "id": "xHO5TtAkd4FY",
        "outputId": "ad3b1900-9e6b-4a7d-81bc-82ffc67e9e1c"
      },
      "source": [
        "print(np.subtract(matrixA, matrixB))"
      ],
      "execution_count": null,
      "outputs": [
        {
          "name": "stdout",
          "output_type": "stream",
          "text": [
            "[[1 1 1]\n",
            " [1 1 1]\n",
            " [1 1 1]]\n"
          ]
        }
      ]
    },
    {
      "cell_type": "markdown",
      "metadata": {
        "id": "FQRIMdQ-d4FY"
      },
      "source": [
        "Perform a Dot Product between 2 matrices.\n",
        "\n",
        "Remember the rule that the matrix product of a matrix $A$ of shape $m \\times n$ with a matrix $B$ of shape $n \\times o$ has shape $m \\times o$. "
      ]
    },
    {
      "cell_type": "code",
      "metadata": {
        "id": "6DaYGtohd4FZ",
        "outputId": "b001e7dc-1bf9-45de-a9bb-c85fa4c8a401"
      },
      "source": [
        "matrixA = np.array([[1, 1, 1], [1, 1, 1], [1, 1, 1]])\n",
        "matrixA"
      ],
      "execution_count": null,
      "outputs": [
        {
          "data": {
            "text/plain": [
              "array([[1, 1, 1],\n",
              "       [1, 1, 1],\n",
              "       [1, 1, 1]])"
            ]
          },
          "execution_count": 13,
          "metadata": {},
          "output_type": "execute_result"
        }
      ]
    },
    {
      "cell_type": "code",
      "metadata": {
        "id": "H-CKqG5ud4FZ",
        "outputId": "f84cadd0-93d5-440b-8abe-a851649c135f"
      },
      "source": [
        "matrixB = np.array([[1, 1], [1, 1], [1, 1]])\n",
        "matrixB"
      ],
      "execution_count": null,
      "outputs": [
        {
          "data": {
            "text/plain": [
              "array([[1, 1],\n",
              "       [1, 1],\n",
              "       [1, 1]])"
            ]
          },
          "execution_count": 14,
          "metadata": {},
          "output_type": "execute_result"
        }
      ]
    },
    {
      "cell_type": "code",
      "metadata": {
        "id": "Zbxd5K7Nd4Fa",
        "outputId": "23d05c62-d4e7-4cd3-9ddd-851694934850"
      },
      "source": [
        "print(np.matmul(matrixA, matrixB))"
      ],
      "execution_count": null,
      "outputs": [
        {
          "name": "stdout",
          "output_type": "stream",
          "text": [
            "[[3 3]\n",
            " [3 3]\n",
            " [3 3]]\n"
          ]
        }
      ]
    },
    {
      "cell_type": "markdown",
      "metadata": {
        "id": "j5v60ugOd4Fa"
      },
      "source": [
        "The dot product of a $3\\times 3$ matrix with a $3\\times 2$ matric is a $3\\times 2$ matrix."
      ]
    },
    {
      "cell_type": "markdown",
      "metadata": {
        "id": "0m6VqDWFd4Fa"
      },
      "source": [
        "Generate a $3\\times 3$ matrix with all zeros."
      ]
    },
    {
      "cell_type": "code",
      "metadata": {
        "scrolled": true,
        "id": "4mSXh-mId4Fa",
        "outputId": "bd0ef565-71eb-45ab-c7c1-434675b242bd"
      },
      "source": [
        "zeros = np.zeros((3, 3))\n",
        "zeros"
      ],
      "execution_count": null,
      "outputs": [
        {
          "data": {
            "text/plain": [
              "array([[0., 0., 0.],\n",
              "       [0., 0., 0.],\n",
              "       [0., 0., 0.]])"
            ]
          },
          "execution_count": 16,
          "metadata": {},
          "output_type": "execute_result"
        }
      ]
    },
    {
      "cell_type": "markdown",
      "metadata": {
        "id": "9WCtaROdd4Fb"
      },
      "source": [
        "Generate a $3\\times 3$ matrix with all ones."
      ]
    },
    {
      "cell_type": "code",
      "metadata": {
        "scrolled": true,
        "id": "blK6_CvKd4Fb",
        "outputId": "f3693174-2cf8-4391-e0cb-b38c7b5a280f"
      },
      "source": [
        "ones = np.ones((3, 3))\n",
        "ones"
      ],
      "execution_count": null,
      "outputs": [
        {
          "data": {
            "text/plain": [
              "array([[1., 1., 1.],\n",
              "       [1., 1., 1.],\n",
              "       [1., 1., 1.]])"
            ]
          },
          "execution_count": 17,
          "metadata": {},
          "output_type": "execute_result"
        }
      ]
    },
    {
      "cell_type": "markdown",
      "metadata": {
        "id": "tXIQQjbHd4Fb"
      },
      "source": [
        "Create a 3D tensor."
      ]
    },
    {
      "cell_type": "code",
      "metadata": {
        "id": "hoo7IAbmd4Fb"
      },
      "source": [
        "tensor_3d = np.array([[[1, 1, 1, 1],\n",
        "                       [1, 1, 1, 1],\n",
        "                       [1, 1, 1, 1]],\n",
        "                      [[1, 1, 1, 1],\n",
        "                       [1, 1, 1, 1],\n",
        "                       [1, 1, 1, 1]]\n",
        "                     ])"
      ],
      "execution_count": null,
      "outputs": []
    },
    {
      "cell_type": "code",
      "metadata": {
        "scrolled": true,
        "id": "kKY5VRJkd4Fc",
        "outputId": "00dd5144-94d8-4355-c07d-4c7e28eee81b"
      },
      "source": [
        "tensor_3d"
      ],
      "execution_count": null,
      "outputs": [
        {
          "data": {
            "text/plain": [
              "array([[[1, 1, 1, 1],\n",
              "        [1, 1, 1, 1],\n",
              "        [1, 1, 1, 1]],\n",
              "\n",
              "       [[1, 1, 1, 1],\n",
              "        [1, 1, 1, 1],\n",
              "        [1, 1, 1, 1]]])"
            ]
          },
          "execution_count": 19,
          "metadata": {},
          "output_type": "execute_result"
        }
      ]
    },
    {
      "cell_type": "code",
      "metadata": {
        "id": "MuL3WPPjd4Fc",
        "outputId": "694a91eb-e57e-45a1-e482-a89952f60250"
      },
      "source": [
        "tensor_3d.shape"
      ],
      "execution_count": null,
      "outputs": [
        {
          "data": {
            "text/plain": [
              "(2, 3, 4)"
            ]
          },
          "execution_count": 20,
          "metadata": {},
          "output_type": "execute_result"
        }
      ]
    },
    {
      "cell_type": "markdown",
      "metadata": {
        "id": "nCqw1Fppd4Fc"
      },
      "source": [
        "The shape of the tensor is described as **Width * Rows * Columns**."
      ]
    },
    {
      "cell_type": "markdown",
      "metadata": {
        "id": "-H9BCskvd4Fc"
      },
      "source": [
        "Below is an example of a 4-dimension tensor, or a tensor of `rank 4`."
      ]
    },
    {
      "cell_type": "code",
      "metadata": {
        "id": "0nf0cfGud4Fd"
      },
      "source": [
        "tensor_4 = np.array([[[[1,2,3,7],\n",
        "                       [1,3,5,0],\n",
        "                       [2,3,4,4]],\n",
        "                      [[2,3,4,6],\n",
        "                       [6,3,4,8],\n",
        "                       [4,6,0,7]]],\n",
        "                     [[[1,2,6,9],\n",
        "                       [2,3,4,3],\n",
        "                       [7,4,4,3]],\n",
        "                      [[2,6,4,3],\n",
        "                       [7,3,4,2],\n",
        "                       [8,5,6,8]]]])"
      ],
      "execution_count": null,
      "outputs": []
    },
    {
      "cell_type": "markdown",
      "metadata": {
        "id": "jMtNjrHCd4Fd"
      },
      "source": [
        "Using the `shape` attribute, we can see the magnitude of dimensions of said tensor.<br><br>\n",
        "A $n$-dimension tensor will display a number of $n$ magnitudes. We can also use `ndim` to show the rank(dimension) of the tensor."
      ]
    },
    {
      "cell_type": "code",
      "metadata": {
        "id": "etb8mnJ1d4Fd",
        "outputId": "1ef1826a-bf18-4bd9-9a06-f0b0558709ad"
      },
      "source": [
        "print(tensor_4.shape)\n",
        "print(tensor_4.ndim)"
      ],
      "execution_count": null,
      "outputs": [
        {
          "name": "stdout",
          "output_type": "stream",
          "text": [
            "(2, 2, 3, 4)\n",
            "4\n"
          ]
        }
      ]
    },
    {
      "cell_type": "markdown",
      "metadata": {
        "id": "qtzdT5Had4Fd"
      },
      "source": [
        "## Common functions to operate on NumPy arrays"
      ]
    },
    {
      "cell_type": "code",
      "metadata": {
        "id": "x89ym2jzd4Fe",
        "outputId": "b70fc2fe-d376-4860-b1d1-5dff5f5e0a15"
      },
      "source": [
        "array_3x3 = np.array([[1, 2, 3], [4, 5, 6], [7, 8, 9]])\n",
        "array_3x3"
      ],
      "execution_count": null,
      "outputs": [
        {
          "data": {
            "text/plain": [
              "array([[1, 2, 3],\n",
              "       [4, 5, 6],\n",
              "       [7, 8, 9]])"
            ]
          },
          "execution_count": 23,
          "metadata": {},
          "output_type": "execute_result"
        }
      ]
    },
    {
      "cell_type": "markdown",
      "metadata": {
        "id": "Gko_jHZed4Fe"
      },
      "source": [
        "Check the shape of the array `array_3x3`."
      ]
    },
    {
      "cell_type": "code",
      "metadata": {
        "id": "cxqqZw-_d4Fe",
        "outputId": "35282ae0-b914-4a53-e936-37fbb9d47425"
      },
      "source": [
        "array_3x3.shape"
      ],
      "execution_count": null,
      "outputs": [
        {
          "data": {
            "text/plain": [
              "(3, 3)"
            ]
          },
          "execution_count": 24,
          "metadata": {},
          "output_type": "execute_result"
        }
      ]
    },
    {
      "cell_type": "markdown",
      "metadata": {
        "id": "fC-xPTjud4Fe"
      },
      "source": [
        "Flatten `array_3x3`. Flatten will reduce any array of any dimensions into a 1-dimension array."
      ]
    },
    {
      "cell_type": "code",
      "metadata": {
        "id": "3DxFonDJd4Fe"
      },
      "source": [
        "flattened_arr = array_3x3.ravel()"
      ],
      "execution_count": null,
      "outputs": []
    },
    {
      "cell_type": "code",
      "metadata": {
        "id": "BMQIKFFLd4Ff",
        "outputId": "4dbdb88b-de54-4ae4-fe83-16642b0569b0"
      },
      "source": [
        "flattened_arr"
      ],
      "execution_count": null,
      "outputs": [
        {
          "data": {
            "text/plain": [
              "array([1, 2, 3, 4, 5, 6, 7, 8, 9])"
            ]
          },
          "execution_count": 26,
          "metadata": {},
          "output_type": "execute_result"
        }
      ]
    },
    {
      "cell_type": "code",
      "metadata": {
        "id": "aHzpIzZ2d4Ff",
        "outputId": "f929fe8c-8064-4b2e-b103-973892582aaa"
      },
      "source": [
        "flattened_arr.shape"
      ],
      "execution_count": null,
      "outputs": [
        {
          "data": {
            "text/plain": [
              "(9,)"
            ]
          },
          "execution_count": 27,
          "metadata": {},
          "output_type": "execute_result"
        }
      ]
    },
    {
      "cell_type": "markdown",
      "metadata": {
        "id": "EmJPQ1zzd4Ff"
      },
      "source": [
        "**Use the `.copy()` method to clone the matrix instead of doing a reference.**\n"
      ]
    },
    {
      "cell_type": "code",
      "metadata": {
        "scrolled": true,
        "id": "vKHt80Cmd4Ff",
        "outputId": "360d9d07-4993-4492-eb0f-fc3e0fd85e1a"
      },
      "source": [
        "matrixA = np.array([[1, 2, 3], [4, 5, 6], [7, 8, 9]]) \n",
        "matrixA"
      ],
      "execution_count": null,
      "outputs": [
        {
          "data": {
            "text/plain": [
              "array([[1, 2, 3],\n",
              "       [4, 5, 6],\n",
              "       [7, 8, 9]])"
            ]
          },
          "execution_count": 28,
          "metadata": {},
          "output_type": "execute_result"
        }
      ]
    },
    {
      "cell_type": "markdown",
      "metadata": {
        "id": "Wcf6yogRd4Fg"
      },
      "source": [
        "`matrixB` is a reference to `matrixA`.`matrixC` is a copy of `matrixA`."
      ]
    },
    {
      "cell_type": "code",
      "metadata": {
        "scrolled": true,
        "id": "imoG1r02d4Fg",
        "outputId": "ebfcfdda-5fb7-415c-e22a-767fa6bb07cb"
      },
      "source": [
        "matrixB = matrixA \n",
        "matrixB"
      ],
      "execution_count": null,
      "outputs": [
        {
          "data": {
            "text/plain": [
              "array([[1, 2, 3],\n",
              "       [4, 5, 6],\n",
              "       [7, 8, 9]])"
            ]
          },
          "execution_count": 29,
          "metadata": {},
          "output_type": "execute_result"
        }
      ]
    },
    {
      "cell_type": "code",
      "metadata": {
        "id": "HH6Ug-9Fd4Fg"
      },
      "source": [
        "matrixC = np.copy(matrixA)"
      ],
      "execution_count": null,
      "outputs": []
    },
    {
      "cell_type": "code",
      "metadata": {
        "id": "E5J1tNqAd4Fg",
        "outputId": "54d44e7f-c379-4e0a-f300-88070c273bb7"
      },
      "source": [
        "matrixC"
      ],
      "execution_count": null,
      "outputs": [
        {
          "data": {
            "text/plain": [
              "array([[1, 2, 3],\n",
              "       [4, 5, 6],\n",
              "       [7, 8, 9]])"
            ]
          },
          "execution_count": 31,
          "metadata": {},
          "output_type": "execute_result"
        }
      ]
    },
    {
      "cell_type": "code",
      "metadata": {
        "id": "p_ENWJvvd4Fg"
      },
      "source": [
        "matrixA[0] = [99, 99, 99]"
      ],
      "execution_count": null,
      "outputs": []
    },
    {
      "cell_type": "code",
      "metadata": {
        "id": "9ee979nVd4Fh",
        "outputId": "be3ad3b8-160e-4fd3-eaa4-e9562f88e3e3"
      },
      "source": [
        "matrixA"
      ],
      "execution_count": null,
      "outputs": [
        {
          "data": {
            "text/plain": [
              "array([[99, 99, 99],\n",
              "       [ 4,  5,  6],\n",
              "       [ 7,  8,  9]])"
            ]
          },
          "execution_count": 33,
          "metadata": {},
          "output_type": "execute_result"
        }
      ]
    },
    {
      "cell_type": "code",
      "metadata": {
        "id": "woa21npsd4Fh",
        "outputId": "9941714d-ba24-46c1-beb6-79b3b9ffa46b"
      },
      "source": [
        "matrixB"
      ],
      "execution_count": null,
      "outputs": [
        {
          "data": {
            "text/plain": [
              "array([[99, 99, 99],\n",
              "       [ 4,  5,  6],\n",
              "       [ 7,  8,  9]])"
            ]
          },
          "execution_count": 34,
          "metadata": {},
          "output_type": "execute_result"
        }
      ]
    },
    {
      "cell_type": "code",
      "metadata": {
        "id": "MfSso5rod4Fh",
        "outputId": "babd6c8c-1e22-42b7-ff9d-e86df6279ab6"
      },
      "source": [
        "matrixC"
      ],
      "execution_count": null,
      "outputs": [
        {
          "data": {
            "text/plain": [
              "array([[1, 2, 3],\n",
              "       [4, 5, 6],\n",
              "       [7, 8, 9]])"
            ]
          },
          "execution_count": 35,
          "metadata": {},
          "output_type": "execute_result"
        }
      ]
    },
    {
      "cell_type": "markdown",
      "metadata": {
        "id": "Svfcz161d4Fh"
      },
      "source": [
        "Note that when we modify `matrixA`, `matrixB` changes, but not `matrixC`"
      ]
    },
    {
      "cell_type": "markdown",
      "metadata": {
        "id": "xkroGvjvd4Fh"
      },
      "source": [
        "## Array Manipulation"
      ]
    },
    {
      "cell_type": "markdown",
      "metadata": {
        "id": "9SotSsJgd4Fi"
      },
      "source": [
        "**Perform vertical stack for 2 matrices using `numpy.vstack`.**"
      ]
    },
    {
      "cell_type": "code",
      "metadata": {
        "scrolled": true,
        "id": "fpjSHj2Ed4Fi",
        "outputId": "4fac6bd2-6ebe-43df-8877-338b79fb6b71"
      },
      "source": [
        "matrixA = np.zeros((3, 3))\n",
        "matrixA"
      ],
      "execution_count": null,
      "outputs": [
        {
          "data": {
            "text/plain": [
              "array([[0., 0., 0.],\n",
              "       [0., 0., 0.],\n",
              "       [0., 0., 0.]])"
            ]
          },
          "execution_count": 36,
          "metadata": {},
          "output_type": "execute_result"
        }
      ]
    },
    {
      "cell_type": "code",
      "metadata": {
        "id": "IszWetmid4Fi",
        "outputId": "f18cba8f-96df-4099-a8f4-6a83cfabd4a9"
      },
      "source": [
        "matrixB = np.ones((3, 3))\n",
        "matrixB"
      ],
      "execution_count": null,
      "outputs": [
        {
          "data": {
            "text/plain": [
              "array([[1., 1., 1.],\n",
              "       [1., 1., 1.],\n",
              "       [1., 1., 1.]])"
            ]
          },
          "execution_count": 37,
          "metadata": {},
          "output_type": "execute_result"
        }
      ]
    },
    {
      "cell_type": "code",
      "metadata": {
        "id": "wyqRCAFId4Fi",
        "outputId": "dbb6df7a-3582-4320-a1ad-fa9edc9874aa"
      },
      "source": [
        "vstack_matrix = np.vstack((matrixA, matrixB))\n",
        "vstack_matrix"
      ],
      "execution_count": null,
      "outputs": [
        {
          "data": {
            "text/plain": [
              "array([[0., 0., 0.],\n",
              "       [0., 0., 0.],\n",
              "       [0., 0., 0.],\n",
              "       [1., 1., 1.],\n",
              "       [1., 1., 1.],\n",
              "       [1., 1., 1.]])"
            ]
          },
          "execution_count": 38,
          "metadata": {},
          "output_type": "execute_result"
        }
      ]
    },
    {
      "cell_type": "code",
      "metadata": {
        "id": "6HB4Ofe6d4Fj",
        "outputId": "a790b3a5-9032-4f2d-ff99-352d9a742a69"
      },
      "source": [
        "vstack_matrix.shape"
      ],
      "execution_count": null,
      "outputs": [
        {
          "data": {
            "text/plain": [
              "(6, 3)"
            ]
          },
          "execution_count": 39,
          "metadata": {},
          "output_type": "execute_result"
        }
      ]
    },
    {
      "cell_type": "markdown",
      "metadata": {
        "id": "pigcVMAMd4Fj"
      },
      "source": [
        "**Perform horizontal stack for 2 matrices using `numpy.hstack`.**"
      ]
    },
    {
      "cell_type": "code",
      "metadata": {
        "id": "bpigVwt_d4Fj",
        "outputId": "0966410e-1950-4ca1-a424-18928b661aea"
      },
      "source": [
        "hstack_matrix = np.hstack((matrixA, matrixB))\n",
        "hstack_matrix"
      ],
      "execution_count": null,
      "outputs": [
        {
          "data": {
            "text/plain": [
              "array([[0., 0., 0., 1., 1., 1.],\n",
              "       [0., 0., 0., 1., 1., 1.],\n",
              "       [0., 0., 0., 1., 1., 1.]])"
            ]
          },
          "execution_count": 40,
          "metadata": {},
          "output_type": "execute_result"
        }
      ]
    },
    {
      "cell_type": "code",
      "metadata": {
        "id": "9VAeQ3Xjd4Fj",
        "outputId": "931a6b00-7b7b-4e87-eece-efbee3641e13"
      },
      "source": [
        "hstack_matrix.shape"
      ],
      "execution_count": null,
      "outputs": [
        {
          "data": {
            "text/plain": [
              "(3, 6)"
            ]
          },
          "execution_count": 41,
          "metadata": {},
          "output_type": "execute_result"
        }
      ]
    },
    {
      "cell_type": "markdown",
      "metadata": {
        "id": "X1dqafAMd4Fk"
      },
      "source": [
        "**Perform depth stack for 2 matrices using `numpy.dstack`.**"
      ]
    },
    {
      "cell_type": "code",
      "metadata": {
        "id": "p9bGjJZyd4Fk"
      },
      "source": [
        "matrixA = np.array([[1, 2, 3], [4, 5, 6], [7, 8, 9]])\n",
        "matrixB = np.array([[10, 20, 30], [40, 50, 60], [70, 80, 90]])"
      ],
      "execution_count": null,
      "outputs": []
    },
    {
      "cell_type": "code",
      "metadata": {
        "id": "2RbrEk0Hd4Fk",
        "outputId": "4d465ecc-b0cb-49dd-f7a9-438d473d61e9"
      },
      "source": [
        "dstack_matrix = np.dstack((matrixA, matrixB))\n",
        "dstack_matrix"
      ],
      "execution_count": null,
      "outputs": [
        {
          "data": {
            "text/plain": [
              "array([[[ 1, 10],\n",
              "        [ 2, 20],\n",
              "        [ 3, 30]],\n",
              "\n",
              "       [[ 4, 40],\n",
              "        [ 5, 50],\n",
              "        [ 6, 60]],\n",
              "\n",
              "       [[ 7, 70],\n",
              "        [ 8, 80],\n",
              "        [ 9, 90]]])"
            ]
          },
          "execution_count": 43,
          "metadata": {},
          "output_type": "execute_result"
        }
      ]
    },
    {
      "cell_type": "code",
      "metadata": {
        "scrolled": true,
        "id": "dZO2UeI7d4Fl",
        "outputId": "263840f2-5e12-420d-fe78-9f5afefa3811"
      },
      "source": [
        "dstack_matrix.shape"
      ],
      "execution_count": null,
      "outputs": [
        {
          "data": {
            "text/plain": [
              "(3, 3, 2)"
            ]
          },
          "execution_count": 44,
          "metadata": {},
          "output_type": "execute_result"
        }
      ]
    },
    {
      "cell_type": "markdown",
      "metadata": {
        "id": "6hAiLcp5d4Fl"
      },
      "source": [
        "**Transpose a matrix.**"
      ]
    },
    {
      "cell_type": "code",
      "metadata": {
        "id": "Kv4iT4qRd4Fl",
        "outputId": "bbff9dd7-5e83-4199-ec58-30953531aa53"
      },
      "source": [
        "matrixC = np.transpose(matrixA)\n",
        "matrixC"
      ],
      "execution_count": null,
      "outputs": [
        {
          "data": {
            "text/plain": [
              "array([[1, 4, 7],\n",
              "       [2, 5, 8],\n",
              "       [3, 6, 9]])"
            ]
          },
          "execution_count": 45,
          "metadata": {},
          "output_type": "execute_result"
        }
      ]
    },
    {
      "cell_type": "markdown",
      "metadata": {
        "id": "9whPHU9nd4Fl"
      },
      "source": [
        "**Reshape a matrix into the assigned row x column.**"
      ]
    },
    {
      "cell_type": "code",
      "metadata": {
        "scrolled": true,
        "id": "Xqbvzlmrd4Fl",
        "outputId": "c8ee20bd-9df2-4c61-ab39-6fa5b8e7fcee"
      },
      "source": [
        "matrixC = matrixA.reshape(1, 9)\n",
        "matrixC"
      ],
      "execution_count": null,
      "outputs": [
        {
          "data": {
            "text/plain": [
              "array([[1, 2, 3, 4, 5, 6, 7, 8, 9]])"
            ]
          },
          "execution_count": 46,
          "metadata": {},
          "output_type": "execute_result"
        }
      ]
    },
    {
      "cell_type": "markdown",
      "metadata": {
        "id": "094-cK4jd4Fm"
      },
      "source": [
        "**Split a matrix vertically at the n-th index to 2 equal-sized subarrays.**"
      ]
    },
    {
      "cell_type": "code",
      "metadata": {
        "scrolled": true,
        "id": "7v34zhJMd4Fm",
        "outputId": "a8b26331-8661-40df-8a62-51485f3cb7d4"
      },
      "source": [
        "matrixA = np.array([[0, 0, 0], [0, 0, 0], [1, 1, 1], [1, 1, 1]])\n",
        "matrixA"
      ],
      "execution_count": null,
      "outputs": [
        {
          "data": {
            "text/plain": [
              "array([[0, 0, 0],\n",
              "       [0, 0, 0],\n",
              "       [1, 1, 1],\n",
              "       [1, 1, 1]])"
            ]
          },
          "execution_count": 47,
          "metadata": {},
          "output_type": "execute_result"
        }
      ]
    },
    {
      "cell_type": "code",
      "metadata": {
        "id": "d81me2-vd4Fm",
        "outputId": "a9626175-65a5-4704-b9fe-2bdf242004d2"
      },
      "source": [
        "matrixC = np.vsplit(matrixA, 2)\n",
        "matrixC"
      ],
      "execution_count": null,
      "outputs": [
        {
          "data": {
            "text/plain": [
              "[array([[0, 0, 0],\n",
              "        [0, 0, 0]]),\n",
              " array([[1, 1, 1],\n",
              "        [1, 1, 1]])]"
            ]
          },
          "execution_count": 48,
          "metadata": {},
          "output_type": "execute_result"
        }
      ]
    },
    {
      "cell_type": "markdown",
      "metadata": {
        "id": "Xaw59eE3d4Fm"
      },
      "source": [
        "**Split a matrix horizontally into 3 equal-sized subarrays.** "
      ]
    },
    {
      "cell_type": "code",
      "metadata": {
        "id": "NsohAqpTd4Fn",
        "outputId": "5d002e20-0566-4d69-e0f9-35648a6b3461"
      },
      "source": [
        "matrixA = np.array([[0, 0, 0], [0, 0, 0], [1, 1, 1], [1, 1, 1]])\n",
        "matrixA"
      ],
      "execution_count": null,
      "outputs": [
        {
          "data": {
            "text/plain": [
              "array([[0, 0, 0],\n",
              "       [0, 0, 0],\n",
              "       [1, 1, 1],\n",
              "       [1, 1, 1]])"
            ]
          },
          "execution_count": 49,
          "metadata": {},
          "output_type": "execute_result"
        }
      ]
    },
    {
      "cell_type": "code",
      "metadata": {
        "id": "n9pRI7O0d4Fn",
        "outputId": "edd31e3c-e1f2-42e8-a7a5-a30e074e650c"
      },
      "source": [
        "matrixC = np.hsplit(matrixA, 3)\n",
        "matrixC"
      ],
      "execution_count": null,
      "outputs": [
        {
          "data": {
            "text/plain": [
              "[array([[0],\n",
              "        [0],\n",
              "        [1],\n",
              "        [1]]),\n",
              " array([[0],\n",
              "        [0],\n",
              "        [1],\n",
              "        [1]]),\n",
              " array([[0],\n",
              "        [0],\n",
              "        [1],\n",
              "        [1]])]"
            ]
          },
          "execution_count": 50,
          "metadata": {},
          "output_type": "execute_result"
        }
      ]
    },
    {
      "cell_type": "markdown",
      "metadata": {
        "id": "rD8C5m43d4Fn"
      },
      "source": [
        "## Exercise"
      ]
    },
    {
      "cell_type": "markdown",
      "metadata": {
        "id": "DV8pz__cd4Fn"
      },
      "source": [
        "Create a $5\\times 3$ matrix populated with random samples from a uniform distribution and name it **`mat_1`**.\n",
        "\n",
        "*hint: `numpy.random.rand`*"
      ]
    },
    {
      "cell_type": "code",
      "metadata": {
        "id": "UQTRG5ugd4Fn",
        "outputId": "7180b7bd-09e9-458c-abb2-0876be831433"
      },
      "source": [
        "mat_1 = np.random.rand(5, 3)\n",
        "mat_1"
      ],
      "execution_count": null,
      "outputs": [
        {
          "data": {
            "text/plain": [
              "array([[0.11966087, 0.47748488, 0.15096113],\n",
              "       [0.1030203 , 0.45308454, 0.24235349],\n",
              "       [0.39663288, 0.06131643, 0.36671067],\n",
              "       [0.280654  , 0.30957119, 0.56012112],\n",
              "       [0.02133816, 0.60018283, 0.24385118]])"
            ]
          },
          "execution_count": 51,
          "metadata": {},
          "output_type": "execute_result"
        }
      ]
    },
    {
      "cell_type": "markdown",
      "metadata": {
        "id": "L6abYVBod4Fo"
      },
      "source": [
        "Create a matrix **`mat_2`** of any size. The matrix should be eligible to perform matrix multiplication with `mat_1`."
      ]
    },
    {
      "cell_type": "code",
      "metadata": {
        "id": "NUETmKG6d4Fo",
        "outputId": "6d8e63b3-a8d3-4c99-af03-601f82ae1ef0"
      },
      "source": [
        "mat_2 = np.random.rand(3, 2)\n",
        "mat_2"
      ],
      "execution_count": null,
      "outputs": [
        {
          "data": {
            "text/plain": [
              "array([[0.37008906, 0.97976583],\n",
              "       [0.52495173, 0.69590459],\n",
              "       [0.32629952, 0.66861873]])"
            ]
          },
          "execution_count": 52,
          "metadata": {},
          "output_type": "execute_result"
        }
      ]
    },
    {
      "cell_type": "markdown",
      "metadata": {
        "id": "lWle9YR8d4Fo"
      },
      "source": [
        "Perform matrix multiplication of `mat_1` and `mat_2` and store it in variable **`mat_3`**."
      ]
    },
    {
      "cell_type": "code",
      "metadata": {
        "id": "vvkgJgjfd4Fo",
        "outputId": "7677cb1f-0253-4dc6-87d1-e8753cdd8aac"
      },
      "source": [
        "mat_3 = np.matmul(mat_1, mat_2)\n",
        "mat_3"
      ],
      "execution_count": null,
      "outputs": [
        {
          "data": {
            "text/plain": [
              "array([[0.34420024, 0.55045899],\n",
              "       [0.35505402, 0.57828146],\n",
              "       [0.29863517, 0.67646735],\n",
              "       [0.44914417, 0.86491469],\n",
              "       [0.40253256, 0.60161985]])"
            ]
          },
          "execution_count": 53,
          "metadata": {},
          "output_type": "execute_result"
        }
      ]
    },
    {
      "cell_type": "markdown",
      "metadata": {
        "id": "H2gxOOTzd4Fo"
      },
      "source": [
        "Create another matrix that has the same number of columns as `mat_3` and name it **`mat_4`**"
      ]
    },
    {
      "cell_type": "code",
      "metadata": {
        "id": "S622Z8uhd4Fp",
        "outputId": "abd471e5-eb27-480b-ae26-717404b2cd44"
      },
      "source": [
        "mat_4 = np.random.rand(3, 2)\n",
        "mat_4"
      ],
      "execution_count": null,
      "outputs": [
        {
          "data": {
            "text/plain": [
              "array([[0.60797561, 0.71906173],\n",
              "       [0.89204501, 0.14677977],\n",
              "       [0.46133693, 0.53957826]])"
            ]
          },
          "execution_count": 54,
          "metadata": {},
          "output_type": "execute_result"
        }
      ]
    },
    {
      "cell_type": "markdown",
      "metadata": {
        "id": "4cx0ICS4d4Fp"
      },
      "source": [
        "Stack matrix `mat_3` and `mat_4` vertically. Name the result **`mat_5`**."
      ]
    },
    {
      "cell_type": "code",
      "metadata": {
        "id": "AcZ6Rgzid4Fp",
        "outputId": "3873dc64-d33c-412f-98eb-4f8cee229f98"
      },
      "source": [
        "mat_5 = np.vstack((mat_3, mat_4))\n",
        "mat_5"
      ],
      "execution_count": null,
      "outputs": [
        {
          "data": {
            "text/plain": [
              "array([[0.34420024, 0.55045899],\n",
              "       [0.35505402, 0.57828146],\n",
              "       [0.29863517, 0.67646735],\n",
              "       [0.44914417, 0.86491469],\n",
              "       [0.40253256, 0.60161985],\n",
              "       [0.60797561, 0.71906173],\n",
              "       [0.89204501, 0.14677977],\n",
              "       [0.46133693, 0.53957826]])"
            ]
          },
          "execution_count": 55,
          "metadata": {},
          "output_type": "execute_result"
        }
      ]
    },
    {
      "cell_type": "markdown",
      "metadata": {
        "id": "6gs43ShKd4Fp"
      },
      "source": [
        "Transpose `mat_5` and name the transposed matrix **`mat_6`**."
      ]
    },
    {
      "cell_type": "code",
      "metadata": {
        "id": "SUaZHegGd4Fp",
        "outputId": "af63bf10-437a-4943-8103-4057f52f2bc5"
      },
      "source": [
        "mat_6 = np.transpose(mat_5)\n",
        "mat_6"
      ],
      "execution_count": null,
      "outputs": [
        {
          "data": {
            "text/plain": [
              "array([[0.34420024, 0.35505402, 0.29863517, 0.44914417, 0.40253256,\n",
              "        0.60797561, 0.89204501, 0.46133693],\n",
              "       [0.55045899, 0.57828146, 0.67646735, 0.86491469, 0.60161985,\n",
              "        0.71906173, 0.14677977, 0.53957826]])"
            ]
          },
          "execution_count": 56,
          "metadata": {},
          "output_type": "execute_result"
        }
      ]
    },
    {
      "cell_type": "markdown",
      "metadata": {
        "id": "NFtG2-lCd4Fq"
      },
      "source": [
        "Check the shape of **`mat_6`**."
      ]
    },
    {
      "cell_type": "code",
      "metadata": {
        "id": "2mDHJPCed4Fq",
        "outputId": "f8853e18-7501-40f7-83b0-2acef269e682"
      },
      "source": [
        "mat_6.shape"
      ],
      "execution_count": null,
      "outputs": [
        {
          "data": {
            "text/plain": [
              "(2, 8)"
            ]
          },
          "execution_count": 57,
          "metadata": {},
          "output_type": "execute_result"
        }
      ]
    },
    {
      "cell_type": "markdown",
      "metadata": {
        "id": "saw7Hz4jd4Fq"
      },
      "source": [
        "Vertically split **`mat_6`** into two subarrays."
      ]
    },
    {
      "cell_type": "code",
      "metadata": {
        "id": "b5j0lgxdd4Fq",
        "outputId": "ee0e383a-1af2-4d38-8c99-9449088e4b99"
      },
      "source": [
        "arr = np.vsplit(mat_6,2)\n",
        "arr"
      ],
      "execution_count": null,
      "outputs": [
        {
          "data": {
            "text/plain": [
              "[array([[0.34420024, 0.35505402, 0.29863517, 0.44914417, 0.40253256,\n",
              "         0.60797561, 0.89204501, 0.46133693]]),\n",
              " array([[0.55045899, 0.57828146, 0.67646735, 0.86491469, 0.60161985,\n",
              "         0.71906173, 0.14677977, 0.53957826]])]"
            ]
          },
          "execution_count": 58,
          "metadata": {},
          "output_type": "execute_result"
        }
      ]
    }
  ]
}