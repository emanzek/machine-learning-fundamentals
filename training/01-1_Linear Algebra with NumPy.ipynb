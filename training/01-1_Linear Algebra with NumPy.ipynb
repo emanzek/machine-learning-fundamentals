{
  "nbformat": 4,
  "nbformat_minor": 0,
  "metadata": {
    "kernelspec": {
      "display_name": "Python 3",
      "language": "python",
      "name": "python3"
    },
    "language_info": {
      "codemirror_mode": {
        "name": "ipython",
        "version": 3
      },
      "file_extension": ".py",
      "mimetype": "text/x-python",
      "name": "python",
      "nbconvert_exporter": "python",
      "pygments_lexer": "ipython3",
      "version": "3.8.3"
    },
    "colab": {
      "name": "01-1_Linear Algebra with NumPy.ipynb",
      "provenance": []
    }
  },
  "cells": [
    {
      "cell_type": "code",
      "metadata": {
        "deletable": false,
        "editable": false,
        "id": "WNq3VNx2VB3X"
      },
      "source": [
        "# Copyright (c) 2019 Skymind AI Bhd.\n",
        "# Copyright (c) 2020 CertifAI Sdn. Bhd.\n",
        "#\n",
        "# This program and the accompanying materials are made available under the\n",
        "# terms of the Apache License, Version 2.0 which is available at\n",
        "# https://www.apache.org/licenses/LICENSE-2.0.\n",
        "# Unless required by applicable law or agreed to in writing, software\n",
        "# distributed under the License is distributed on an \"AS IS\" BASIS, WITHOUT\n",
        "# WARRANTIES OR CONDITIONS OF ANY KIND, either express or implied. See the\n",
        "# License for the specific language governing permissions and limitations\n",
        "# under the License.\n",
        "#\n",
        "# SPDX-License-Identifier: Apache-2.0"
      ],
      "execution_count": null,
      "outputs": []
    },
    {
      "cell_type": "markdown",
      "metadata": {
        "id": "jYF7ZKP2VB3c"
      },
      "source": [
        "# Linear Algebra with NumPy\n",
        "\n",
        "We'll be using the numerical computing library NumPy, as well as the scientific and technical computing library SciPy. "
      ]
    },
    {
      "cell_type": "code",
      "metadata": {
        "id": "P3G8ICzrVB3e"
      },
      "source": [
        "import numpy as np \n",
        "import scipy.linalg as la"
      ],
      "execution_count": 11,
      "outputs": []
    },
    {
      "cell_type": "markdown",
      "metadata": {
        "id": "jO7YHamZVB3f"
      },
      "source": [
        "## Operations \n",
        "### Matrix transposition \n",
        "\n",
        "The transposed matrix A is denoted $A^{T}$."
      ]
    },
    {
      "cell_type": "code",
      "metadata": {
        "colab": {
          "base_uri": "https://localhost:8080/"
        },
        "id": "jRkPfO0-VB3f",
        "outputId": "c7521e88-fb3d-4751-944e-5ebb6eac4383"
      },
      "source": [
        "A = np.array([[1, 2], [3, 4]])\n",
        "A.T "
      ],
      "execution_count": 12,
      "outputs": [
        {
          "output_type": "execute_result",
          "data": {
            "text/plain": [
              "array([[1, 3],\n",
              "       [2, 4]])"
            ]
          },
          "metadata": {},
          "execution_count": 12
        }
      ]
    },
    {
      "cell_type": "markdown",
      "metadata": {
        "id": "pL1obhZFVB3g"
      },
      "source": [
        "### Element-wise product\n",
        "The element-wise product of A and B is denoted $AB$. It multiplies the values of two matrices element-wise."
      ]
    },
    {
      "cell_type": "code",
      "metadata": {
        "colab": {
          "base_uri": "https://localhost:8080/"
        },
        "id": "TCntyZvrVB3g",
        "outputId": "c91acc69-e047-4bc3-cfa2-e940f2812053"
      },
      "source": [
        "B = np.array([[5, 6], [7, 8]])\n",
        "\n",
        "# in the previous notebook, we used np.matmul(A, B)\n",
        "# we can also use Python's multiplication operator\n",
        "A * B"
      ],
      "execution_count": 13,
      "outputs": [
        {
          "output_type": "execute_result",
          "data": {
            "text/plain": [
              "array([[ 5, 12],\n",
              "       [21, 32]])"
            ]
          },
          "metadata": {},
          "execution_count": 13
        }
      ]
    },
    {
      "cell_type": "markdown",
      "metadata": {
        "id": "HnQruk59VB3i"
      },
      "source": [
        "### Matrix product \n",
        "\n",
        "The matrix product operator is `@`. The inner product of A and B is denoted $AB^{T}$. "
      ]
    },
    {
      "cell_type": "code",
      "metadata": {
        "colab": {
          "base_uri": "https://localhost:8080/"
        },
        "id": "rCVwmQuhVB3j",
        "outputId": "3cca9382-334c-44cf-b8cf-dc429ca9d114"
      },
      "source": [
        "# in the previous notebook, we used np.multiply(A, B) \n",
        "# in this notebook we'll use the `@` operator provided by NumPy \n",
        "A @ B"
      ],
      "execution_count": 14,
      "outputs": [
        {
          "output_type": "execute_result",
          "data": {
            "text/plain": [
              "array([[19, 22],\n",
              "       [43, 50]])"
            ]
          },
          "metadata": {},
          "execution_count": 14
        }
      ]
    },
    {
      "cell_type": "markdown",
      "metadata": {
        "id": "tbDGBNtXVB3j"
      },
      "source": [
        "### Matrix inversion \n",
        "\n",
        "Recall the definition of an inverse matrix: \n",
        "\n",
        "$$ AA^{-1} = A^{-1}A = I$$\n",
        "\n",
        "Use `scipy.linalg` to find the inverse programmatically:"
      ]
    },
    {
      "cell_type": "code",
      "metadata": {
        "colab": {
          "base_uri": "https://localhost:8080/"
        },
        "id": "rYSdBW7DVB3k",
        "outputId": "897045cf-240b-4234-ad80-cc6570a4fe60"
      },
      "source": [
        "A_inv = la.inv(A)\n",
        "print(A_inv)"
      ],
      "execution_count": 15,
      "outputs": [
        {
          "output_type": "stream",
          "name": "stdout",
          "text": [
            "[[-2.   1. ]\n",
            " [ 1.5 -0.5]]\n"
          ]
        }
      ]
    },
    {
      "cell_type": "code",
      "metadata": {
        "colab": {
          "base_uri": "https://localhost:8080/"
        },
        "id": "gVrHkOJVVB3k",
        "outputId": "ddb9b289-6db5-4e0c-d091-97dbfdbd551a"
      },
      "source": [
        "A @ A_inv"
      ],
      "execution_count": 16,
      "outputs": [
        {
          "output_type": "execute_result",
          "data": {
            "text/plain": [
              "array([[1.0000000e+00, 0.0000000e+00],\n",
              "       [8.8817842e-16, 1.0000000e+00]])"
            ]
          },
          "metadata": {},
          "execution_count": 16
        }
      ]
    },
    {
      "cell_type": "markdown",
      "metadata": {
        "id": "3tTBjyiuVB3k"
      },
      "source": [
        "which is the identity matrix. "
      ]
    },
    {
      "cell_type": "markdown",
      "metadata": {
        "id": "ushj-6gAVB3l"
      },
      "source": [
        "For a matrix to be invertible, it must be a square matrix. The inverse of a $2\\times2$ matrix A is\n",
        "\n",
        "$$A^{-1}=\\begin{bmatrix} a & b \\\\ c & d \\end{bmatrix}^{-1} = \\frac{1}{ad - bc} \\begin{bmatrix} d & -b \\\\ -c & a \\end{bmatrix}$$\n",
        "\n",
        "Not all square matrices are invertible. As can be seen from the formula, if $\\det{(A)} = ad-bc = 0$, the inverse of A does not exist ($1/0$). "
      ]
    },
    {
      "cell_type": "code",
      "metadata": {
        "colab": {
          "base_uri": "https://localhost:8080/"
        },
        "id": "SRZoMaK_VB3l",
        "outputId": "b6fbc0a8-0616-4ded-8d3b-5a982a393290"
      },
      "source": [
        "noninvert = np.array([[6, 4], [3, 2]])\n",
        "la.det(noninvert)"
      ],
      "execution_count": 17,
      "outputs": [
        {
          "output_type": "execute_result",
          "data": {
            "text/plain": [
              "0.0"
            ]
          },
          "metadata": {},
          "execution_count": 17
        }
      ]
    },
    {
      "cell_type": "markdown",
      "metadata": {
        "id": "uTIwCXXsVB3l"
      },
      "source": [
        "### Permutation matrices\n",
        "\n",
        "Recall that a permutation matrix is just an identity matrix with its rows reordered. A permutation matrix allows us to swap the rows and columns of a matrix. \n",
        "\n"
      ]
    },
    {
      "cell_type": "markdown",
      "metadata": {
        "id": "s5CqJqNrVB3m"
      },
      "source": [
        "When multiplied with an identity matrix, a $n\\times n$ square matrix $A$ returns itself: \n",
        "\n",
        "$$AI_n=A$$"
      ]
    },
    {
      "cell_type": "code",
      "metadata": {
        "colab": {
          "base_uri": "https://localhost:8080/"
        },
        "id": "rknhnCTDVB3m",
        "outputId": "d3dff7f4-c093-4f75-dd9b-accdbca4ee39"
      },
      "source": [
        "p = np.array([[1, 0, 0], [0, 1, 0], [0, 0, 1]])\n",
        "p"
      ],
      "execution_count": 18,
      "outputs": [
        {
          "output_type": "execute_result",
          "data": {
            "text/plain": [
              "array([[1, 0, 0],\n",
              "       [0, 1, 0],\n",
              "       [0, 0, 1]])"
            ]
          },
          "metadata": {},
          "execution_count": 18
        }
      ]
    },
    {
      "cell_type": "code",
      "metadata": {
        "colab": {
          "base_uri": "https://localhost:8080/"
        },
        "id": "-Wusa83BVB3m",
        "outputId": "f1507383-fe95-4495-a9eb-9ae5dee5fb8b"
      },
      "source": [
        "mat = np.array([[6, 4, 3], [2, 9, 8], [1, 3, 3]])\n",
        "mat"
      ],
      "execution_count": 19,
      "outputs": [
        {
          "output_type": "execute_result",
          "data": {
            "text/plain": [
              "array([[6, 4, 3],\n",
              "       [2, 9, 8],\n",
              "       [1, 3, 3]])"
            ]
          },
          "metadata": {},
          "execution_count": 19
        }
      ]
    },
    {
      "cell_type": "code",
      "metadata": {
        "colab": {
          "base_uri": "https://localhost:8080/"
        },
        "id": "q9nlzbjSVB3n",
        "outputId": "fcc74f60-9552-48a2-dfa3-5a3c06a42093"
      },
      "source": [
        "p @ mat"
      ],
      "execution_count": 20,
      "outputs": [
        {
          "output_type": "execute_result",
          "data": {
            "text/plain": [
              "array([[6, 4, 3],\n",
              "       [2, 9, 8],\n",
              "       [1, 3, 3]])"
            ]
          },
          "metadata": {},
          "execution_count": 20
        }
      ]
    },
    {
      "cell_type": "markdown",
      "metadata": {
        "id": "bn5IBMvVVB3n"
      },
      "source": [
        "Note that (left) multiplying any matrix by a permutation matrix rearranges its rows: "
      ]
    },
    {
      "cell_type": "code",
      "metadata": {
        "colab": {
          "base_uri": "https://localhost:8080/"
        },
        "id": "PZrkZw6aVB3n",
        "outputId": "a83f71b5-796d-417b-cf3c-a132a80a7ee5"
      },
      "source": [
        "p1 = np.array([[1, 0, 0], [0, 0, 1], [0, 1, 0]])\n",
        "p1 @ mat"
      ],
      "execution_count": 21,
      "outputs": [
        {
          "output_type": "execute_result",
          "data": {
            "text/plain": [
              "array([[6, 4, 3],\n",
              "       [1, 3, 3],\n",
              "       [2, 9, 8]])"
            ]
          },
          "metadata": {},
          "execution_count": 21
        }
      ]
    },
    {
      "cell_type": "markdown",
      "metadata": {
        "id": "7NVO3mdiVB3n"
      },
      "source": [
        "and right multiplication rearranges its *columns*: "
      ]
    },
    {
      "cell_type": "code",
      "metadata": {
        "colab": {
          "base_uri": "https://localhost:8080/"
        },
        "id": "5z0MZBWSVB3o",
        "outputId": "f9c5ef51-5145-4523-c553-38ea37ce9cf0"
      },
      "source": [
        "mat @ p1"
      ],
      "execution_count": 22,
      "outputs": [
        {
          "output_type": "execute_result",
          "data": {
            "text/plain": [
              "array([[6, 3, 4],\n",
              "       [2, 8, 9],\n",
              "       [1, 3, 3]])"
            ]
          },
          "metadata": {},
          "execution_count": 22
        }
      ]
    },
    {
      "cell_type": "markdown",
      "metadata": {
        "id": "HKduRbL_VB3o"
      },
      "source": [
        "## Solving systems of linear equations\n",
        "\n",
        "Recall in the slides that we tried to solve the following system of linear equations: \n",
        "\n",
        "$$x_1+5x_2=7$$\n",
        "$$-2x_1-7x_2=-5$$\n",
        "\n",
        "The matrix representation of the above equations are as follows: "
      ]
    },
    {
      "cell_type": "code",
      "metadata": {
        "id": "fZlgw0BNVB3o"
      },
      "source": [
        "A = np.array([[1, 5], [-2, -7]])\n",
        "B = np.array([[7, -5]])"
      ],
      "execution_count": 23,
      "outputs": []
    },
    {
      "cell_type": "markdown",
      "metadata": {
        "id": "oYpWvQ1dVB3o"
      },
      "source": [
        "We can solve this programmatically with `scipy.linalg`: "
      ]
    },
    {
      "cell_type": "code",
      "metadata": {
        "colab": {
          "base_uri": "https://localhost:8080/"
        },
        "id": "eehTn97uVB3p",
        "outputId": "5cc667a1-3109-449a-eb7d-4d0933097235"
      },
      "source": [
        "la.solve(A, B.T)"
      ],
      "execution_count": 24,
      "outputs": [
        {
          "output_type": "execute_result",
          "data": {
            "text/plain": [
              "array([[-8.],\n",
              "       [ 3.]])"
            ]
          },
          "metadata": {},
          "execution_count": 24
        }
      ]
    },
    {
      "cell_type": "markdown",
      "metadata": {
        "id": "tt5yzVf_VB3p"
      },
      "source": [
        "Convince yourself that the above values ($x_1 = -8, x_2 = 3$) satisfy the system of linear equations above. "
      ]
    },
    {
      "cell_type": "markdown",
      "metadata": {
        "id": "rDhvwT_jVB3p"
      },
      "source": [
        "### Gaussian elimination\n",
        "\n",
        "In the lectures, we showed how the Gaussian elimination algorithm can be used to solve systems of linear equations. \n",
        "\n",
        "Gaussian elimination involves performing the following **elementary row operations**: \n",
        "1. Add $k$ times row $j$ to row $i$.\n",
        "2. Multiply row $i$ by scalar $k$.\n",
        "\n",
        "The following helper functions are sourced from [patrickwalls/mathematical-python](https://www.math.ubc.ca/~pwalls/math-python/linear-algebra/solving-linear-systems/)"
      ]
    },
    {
      "cell_type": "code",
      "metadata": {
        "id": "WUnkdaMwVB3p"
      },
      "source": [
        "def add_row(A, multiplier_k, row_j, row_i):\n",
        "    \"Add k times row j to row i in matrix A.\"\n",
        "    n = A.shape[0]\n",
        "    E = np.eye(n)\n",
        "    if row_i == row_j:\n",
        "        E[row_i, row_i] = multiplier_k + 1\n",
        "    else:\n",
        "        E[row_i, row_j] = multiplier_k\n",
        "    return E @ A\n",
        "\n",
        "\n",
        "def scale_row(A, row_i, multiplier_k):\n",
        "    \"Multiply row i by k in matrix A.\"\n",
        "    n = A.shape[0]\n",
        "    E = np.eye(n)\n",
        "    E[row_i, row_i] = multiplier_k\n",
        "    return E @ A"
      ],
      "execution_count": 25,
      "outputs": []
    },
    {
      "cell_type": "markdown",
      "metadata": {
        "id": "ydR6JNJ5VB3q"
      },
      "source": [
        "First, concatenate the two matrices:"
      ]
    },
    {
      "cell_type": "code",
      "metadata": {
        "colab": {
          "base_uri": "https://localhost:8080/"
        },
        "id": "UvxhI5tZVB3q",
        "outputId": "f9be1d1b-1c30-4daa-c33a-35b76c209cb9"
      },
      "source": [
        "E = np.concatenate((A, B.T), axis=1)\n",
        "E"
      ],
      "execution_count": 26,
      "outputs": [
        {
          "output_type": "execute_result",
          "data": {
            "text/plain": [
              "array([[ 1,  5,  7],\n",
              "       [-2, -7, -5]])"
            ]
          },
          "metadata": {},
          "execution_count": 26
        }
      ]
    },
    {
      "cell_type": "markdown",
      "metadata": {
        "id": "q9LA80q8VB3q"
      },
      "source": [
        "Remember, the goal is to transform A into an identity matrix. We usually do this by transforming A into an upper triangular matrix (a matrix with 0s below the matrix diagonals) using the elementary operations, *and then* into an identity matrix. \n",
        "\n",
        "Our first operation is to add twice of the first row to the second row. Now, the first element in the second row is 0. "
      ]
    },
    {
      "cell_type": "code",
      "metadata": {
        "colab": {
          "base_uri": "https://localhost:8080/"
        },
        "id": "0FOETQHFVB3q",
        "outputId": "8368217c-d2ca-4896-ce4c-297dc43575c8"
      },
      "source": [
        "E1 = add_row(E, 2, 0, 1)\n",
        "E1"
      ],
      "execution_count": 27,
      "outputs": [
        {
          "output_type": "execute_result",
          "data": {
            "text/plain": [
              "array([[1., 5., 7.],\n",
              "       [0., 3., 9.]])"
            ]
          },
          "metadata": {},
          "execution_count": 27
        }
      ]
    },
    {
      "cell_type": "markdown",
      "metadata": {
        "id": "LjhhqeVSVB3r"
      },
      "source": [
        "Now we can scale down row 2 by a factor of 3 ... "
      ]
    },
    {
      "cell_type": "code",
      "metadata": {
        "colab": {
          "base_uri": "https://localhost:8080/"
        },
        "id": "z7BX_SokVB3r",
        "outputId": "21de8254-ef05-4df9-9572-1d34e7de2605"
      },
      "source": [
        "E2 = scale_row(E1, 1, 1/3)\n",
        "E2"
      ],
      "execution_count": 28,
      "outputs": [
        {
          "output_type": "execute_result",
          "data": {
            "text/plain": [
              "array([[1., 5., 7.],\n",
              "       [0., 1., 3.]])"
            ]
          },
          "metadata": {},
          "execution_count": 28
        }
      ]
    },
    {
      "cell_type": "markdown",
      "metadata": {
        "id": "8tT4JmTGVB3r"
      },
      "source": [
        "and subtract five times of row 2 from the first row. \n",
        "\n",
        "Now we have an identity matrix in the first two columns of E3, and the solution in the last column."
      ]
    },
    {
      "cell_type": "code",
      "metadata": {
        "colab": {
          "base_uri": "https://localhost:8080/"
        },
        "id": "PG2H0xNfVB3r",
        "outputId": "af295508-187e-4c2a-8b60-ff52c2a1ca3c"
      },
      "source": [
        "E3 = add_row(E2, -5, 1, 0)\n",
        "E3"
      ],
      "execution_count": 29,
      "outputs": [
        {
          "output_type": "execute_result",
          "data": {
            "text/plain": [
              "array([[ 1.,  0., -8.],\n",
              "       [ 0.,  1.,  3.]])"
            ]
          },
          "metadata": {},
          "execution_count": 29
        }
      ]
    },
    {
      "cell_type": "markdown",
      "metadata": {
        "id": "rvPRfOzJVB3r"
      },
      "source": [
        "which is identical to our programmatic solution. "
      ]
    },
    {
      "cell_type": "markdown",
      "metadata": {
        "id": "0a67AnOWVB3s"
      },
      "source": [
        "### Permutation matrices and Gaussian elimination\n",
        "\n",
        "Permutation matrices allow us to bypass a limitation of the Gaussian elimination algorithm. \n",
        "\n",
        "Take for example the following system of equations \n",
        "\n",
        "$$2x_2 = 4$$\n",
        "$$3x_1-2x_2=5$$\n",
        "\n",
        "This system of equations clearly has a solution, but let's see how this would be solved under Gaussian elimination. "
      ]
    },
    {
      "cell_type": "code",
      "metadata": {
        "id": "3w5jtp4kVB3s"
      },
      "source": [
        "A = np.array([[0, 2], [3, -2]])\n",
        "B = np.array([[4], [5]])"
      ],
      "execution_count": 30,
      "outputs": []
    },
    {
      "cell_type": "code",
      "metadata": {
        "colab": {
          "base_uri": "https://localhost:8080/"
        },
        "id": "vD91G3e8VB3s",
        "outputId": "3cde4fa5-3c16-4473-d659-eacbcdefdcef"
      },
      "source": [
        "E = np.concatenate((A, B), axis=1)\n",
        "E"
      ],
      "execution_count": 31,
      "outputs": [
        {
          "output_type": "execute_result",
          "data": {
            "text/plain": [
              "array([[ 0,  2,  4],\n",
              "       [ 3, -2,  5]])"
            ]
          },
          "metadata": {},
          "execution_count": 31
        }
      ]
    },
    {
      "cell_type": "markdown",
      "metadata": {
        "id": "Aeb8EhgHVB3s"
      },
      "source": [
        "One way to solve this is to switch the first and second rows. We define a helper function to switch rows: "
      ]
    },
    {
      "cell_type": "code",
      "metadata": {
        "id": "O2O3kxmWVB3s"
      },
      "source": [
        "def switch_rows(A, row_i, row_j):\n",
        "    \"Switch rows i and j in matrix A.\"\n",
        "    n = A.shape[0]\n",
        "    E = np.eye(n)\n",
        "    E[row_i, row_i] = 0\n",
        "    E[row_j, row_j] = 0\n",
        "    E[row_i, row_j] = 1\n",
        "    E[row_j, row_i] = 1\n",
        "    return E @ A"
      ],
      "execution_count": 32,
      "outputs": []
    },
    {
      "cell_type": "code",
      "metadata": {
        "colab": {
          "base_uri": "https://localhost:8080/"
        },
        "id": "HnI9pxuMVB3t",
        "outputId": "448e8525-2451-4b04-b430-adda76bb1790"
      },
      "source": [
        "E1 = switch_rows(E, 0, 1)\n",
        "E1"
      ],
      "execution_count": 33,
      "outputs": [
        {
          "output_type": "execute_result",
          "data": {
            "text/plain": [
              "array([[ 3., -2.,  5.],\n",
              "       [ 0.,  2.,  4.]])"
            ]
          },
          "metadata": {},
          "execution_count": 33
        }
      ]
    },
    {
      "cell_type": "markdown",
      "metadata": {
        "id": "R__lYM7GVB3t"
      },
      "source": [
        "Now add the two rows together, and scale each of the rows: "
      ]
    },
    {
      "cell_type": "code",
      "metadata": {
        "colab": {
          "base_uri": "https://localhost:8080/"
        },
        "id": "NEVrzVUEVB3t",
        "outputId": "ef6a2e78-012b-445c-8821-4b6644dfc1d1"
      },
      "source": [
        "E2 = add_row(E1, 1, 1, 0)\n",
        "E2"
      ],
      "execution_count": 34,
      "outputs": [
        {
          "output_type": "execute_result",
          "data": {
            "text/plain": [
              "array([[3., 0., 9.],\n",
              "       [0., 2., 4.]])"
            ]
          },
          "metadata": {},
          "execution_count": 34
        }
      ]
    },
    {
      "cell_type": "code",
      "metadata": {
        "colab": {
          "base_uri": "https://localhost:8080/"
        },
        "id": "6yGKLhh0VB3t",
        "outputId": "98a883e3-fc3a-4297-c3c5-ff727a4b27a3"
      },
      "source": [
        "E3 = scale_row(E2, 0, 1/3)\n",
        "E4 = scale_row(E3, 1, 1/2)\n",
        "E4"
      ],
      "execution_count": 35,
      "outputs": [
        {
          "output_type": "execute_result",
          "data": {
            "text/plain": [
              "array([[1., 0., 3.],\n",
              "       [0., 1., 2.]])"
            ]
          },
          "metadata": {},
          "execution_count": 35
        }
      ]
    },
    {
      "cell_type": "markdown",
      "metadata": {
        "id": "It8NvuoZVB3u"
      },
      "source": [
        "## Norms"
      ]
    },
    {
      "cell_type": "code",
      "metadata": {
        "id": "CHSphchZVB3u"
      },
      "source": [
        "A = np.array([0, 0])\n",
        "B = np.array([3, 4])"
      ],
      "execution_count": 36,
      "outputs": []
    },
    {
      "cell_type": "markdown",
      "metadata": {
        "id": "njxZP6wCVB3u"
      },
      "source": [
        "The L1 norm, also known as the Manhattan distance, can be computed using `la.norm`: "
      ]
    },
    {
      "cell_type": "code",
      "metadata": {
        "colab": {
          "base_uri": "https://localhost:8080/"
        },
        "id": "Xi5ma1e9VB3u",
        "outputId": "13dcd1d4-78e2-44b0-e269-46229e84af78"
      },
      "source": [
        "la.norm(B - A, ord=1)"
      ],
      "execution_count": 37,
      "outputs": [
        {
          "output_type": "execute_result",
          "data": {
            "text/plain": [
              "7.0"
            ]
          },
          "metadata": {},
          "execution_count": 37
        }
      ]
    },
    {
      "cell_type": "markdown",
      "metadata": {
        "id": "i776T57TVB3v"
      },
      "source": [
        "The Manhattan distance is $\\sum_{i=1}^n |x_i-y_i|$.\n",
        "\n",
        "In contrast, the L2 norm, also known as the Euclidean distance, is $\\sqrt{\\sum_{i=1}^n (x_i-y_i)^2}$.     "
      ]
    },
    {
      "cell_type": "code",
      "metadata": {
        "colab": {
          "base_uri": "https://localhost:8080/"
        },
        "id": "wSr686FgVB3v",
        "outputId": "83eb87df-14ba-4c4f-c536-4aaac3084a05"
      },
      "source": [
        "la.norm(B - A, ord=None)"
      ],
      "execution_count": 38,
      "outputs": [
        {
          "output_type": "execute_result",
          "data": {
            "text/plain": [
              "5.0"
            ]
          },
          "metadata": {},
          "execution_count": 38
        }
      ]
    },
    {
      "cell_type": "markdown",
      "metadata": {
        "id": "vXB7f9VSVB3v"
      },
      "source": [
        "## Exercise"
      ]
    },
    {
      "cell_type": "markdown",
      "metadata": {
        "id": "W6guflepVB3v"
      },
      "source": [
        "$$ XA = B$$\n",
        "\n",
        "Given matrix $A$ and $B$, find matrix $X$. \n"
      ]
    },
    {
      "cell_type": "code",
      "metadata": {
        "colab": {
          "base_uri": "https://localhost:8080/"
        },
        "id": "mgSDddPNVB3v",
        "outputId": "ae5fbb14-b8ce-414e-d81b-85970bff8034"
      },
      "source": [
        "A = np.array([\n",
        "    [2, 5, 6, 1],\n",
        "    [2, 4, 5, 2],\n",
        "    [3, 5, 6, 3],\n",
        "    [6, 4, 2, 7]\n",
        "])\n",
        "A"
      ],
      "execution_count": 50,
      "outputs": [
        {
          "output_type": "execute_result",
          "data": {
            "text/plain": [
              "array([[2, 5, 6, 1],\n",
              "       [2, 4, 5, 2],\n",
              "       [3, 5, 6, 3],\n",
              "       [6, 4, 2, 7]])"
            ]
          },
          "metadata": {},
          "execution_count": 50
        }
      ]
    },
    {
      "cell_type": "code",
      "metadata": {
        "colab": {
          "base_uri": "https://localhost:8080/"
        },
        "id": "78mSdDjmVB3v",
        "outputId": "6a675c22-d566-4d73-cd2b-195ad3e336e7"
      },
      "source": [
        "B = np.array([2, 4, 5, 6])\n",
        "B"
      ],
      "execution_count": 51,
      "outputs": [
        {
          "output_type": "execute_result",
          "data": {
            "text/plain": [
              "array([2, 4, 5, 6])"
            ]
          },
          "metadata": {},
          "execution_count": 51
        }
      ]
    },
    {
      "cell_type": "markdown",
      "metadata": {
        "id": "FiZIK794Y42o"
      },
      "source": [
        "$$X = BA^{-1}$$  "
      ]
    },
    {
      "cell_type": "code",
      "metadata": {
        "colab": {
          "base_uri": "https://localhost:8080/"
        },
        "id": "YeUxrffvXj9d",
        "outputId": "143faa96-8368-43a4-8c27-679fd951850b"
      },
      "source": [
        "A_inv = la.inv(A)\n",
        "A_inv"
      ],
      "execution_count": 52,
      "outputs": [
        {
          "output_type": "execute_result",
          "data": {
            "text/plain": [
              "array([[ 0.33333333, -9.33333333,  7.66666667, -0.66666667],\n",
              "       [ 1.        ,  8.        , -8.        ,  1.        ],\n",
              "       [-0.66666667, -4.33333333,  4.66666667, -0.66666667],\n",
              "       [-0.66666667,  4.66666667, -3.33333333,  0.33333333]])"
            ]
          },
          "metadata": {},
          "execution_count": 52
        }
      ]
    },
    {
      "cell_type": "code",
      "metadata": {
        "colab": {
          "base_uri": "https://localhost:8080/"
        },
        "id": "iMozS3VhXuYv",
        "outputId": "2cc968a4-d234-43d0-8ca6-70d657de4cbf"
      },
      "source": [
        "x = np.matmul(B, A_inv)\n",
        "x"
      ],
      "execution_count": 53,
      "outputs": [
        {
          "output_type": "execute_result",
          "data": {
            "text/plain": [
              "array([ -2.66666667,  19.66666667, -13.33333333,   1.33333333])"
            ]
          },
          "metadata": {},
          "execution_count": 53
        }
      ]
    },
    {
      "cell_type": "markdown",
      "metadata": {
        "id": "4M7m0GkTaMV1"
      },
      "source": [
        "Prove:"
      ]
    },
    {
      "cell_type": "code",
      "metadata": {
        "colab": {
          "base_uri": "https://localhost:8080/"
        },
        "id": "r5hyqPqcYATB",
        "outputId": "473bca22-269c-47bd-9707-6ac56c4dbbc6"
      },
      "source": [
        "B = x @ A\n",
        "B"
      ],
      "execution_count": 54,
      "outputs": [
        {
          "output_type": "execute_result",
          "data": {
            "text/plain": [
              "array([2., 4., 5., 6.])"
            ]
          },
          "metadata": {},
          "execution_count": 54
        }
      ]
    },
    {
      "cell_type": "markdown",
      "metadata": {
        "id": "wUsAFdK1VB3w"
      },
      "source": [
        "## References\n",
        "1. https://www.math.utah.edu/~zwick/Classes/Fall2012_2270/Lectures/Lecture7.pdf\n",
        "2. http://www.math.ubc.ca/~pwalls/math-python/\n",
        "3. https://github.com/rasbt/pattern_classification/blob/master/resources/latex_equations.md"
      ]
    }
  ]
}