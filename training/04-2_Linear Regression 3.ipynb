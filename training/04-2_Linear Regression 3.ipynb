{
  "nbformat": 4,
  "nbformat_minor": 0,
  "metadata": {
    "kernelspec": {
      "display_name": "Python 3",
      "language": "python",
      "name": "python3"
    },
    "language_info": {
      "codemirror_mode": {
        "name": "ipython",
        "version": 3
      },
      "file_extension": ".py",
      "mimetype": "text/x-python",
      "name": "python",
      "nbconvert_exporter": "python",
      "pygments_lexer": "ipython3",
      "version": "3.8.3"
    },
    "colab": {
      "name": "04-2_Linear Regression 3.ipynb",
      "provenance": []
    }
  },
  "cells": [
    {
      "cell_type": "code",
      "metadata": {
        "deletable": false,
        "editable": false,
        "id": "eCkNT4DxGqXc"
      },
      "source": [
        "# Copyright (c) 2019 Skymind AI Bhd.\n",
        "# Copyright (c) 2020 CertifAI Sdn. Bhd.\n",
        "#\n",
        "# This program and the accompanying materials are made available under the\n",
        "# terms of the Apache License, Version 2.0 which is available at\n",
        "# https://www.apache.org/licenses/LICENSE-2.0.\n",
        "# Unless required by applicable law or agreed to in writing, software\n",
        "# distributed under the License is distributed on an \"AS IS\" BASIS, WITHOUT\n",
        "# WARRANTIES OR CONDITIONS OF ANY KIND, either express or implied. See the\n",
        "# License for the specific language governing permissions and limitations\n",
        "# under the License.\n",
        "#\n",
        "# SPDX-License-Identifier: Apache-2.0"
      ],
      "execution_count": null,
      "outputs": []
    },
    {
      "cell_type": "code",
      "metadata": {
        "id": "YsXjLubaGqXg"
      },
      "source": [
        "import numpy as np\n",
        "import pandas as pd\n",
        "from sklearn import datasets\n",
        "from sklearn import model_selection\n",
        "from sklearn import metrics\n",
        "from sklearn.model_selection import train_test_split\n",
        "from sklearn.linear_model import LinearRegression\n",
        "from sklearn import preprocessing\n",
        "\n",
        "import matplotlib.pyplot as plt\n",
        "%matplotlib inline"
      ],
      "execution_count": 1,
      "outputs": []
    },
    {
      "cell_type": "markdown",
      "metadata": {
        "id": "eZ7SoFF6GqXg"
      },
      "source": [
        "## View data"
      ]
    },
    {
      "cell_type": "code",
      "metadata": {
        "id": "E-Jd-7KkGqXi"
      },
      "source": [
        "df = pd.read_csv('https://www4.stat.ncsu.edu/~boos/var.select/diabetes.tab.txt', sep=\"\\t\")"
      ],
      "execution_count": 2,
      "outputs": []
    },
    {
      "cell_type": "code",
      "metadata": {
        "id": "BLQiXq1ZGqXj",
        "outputId": "03d87c88-c93c-4f18-8841-a942e1be96f1",
        "colab": {
          "base_uri": "https://localhost:8080/",
          "height": 204
        }
      },
      "source": [
        "df.head()"
      ],
      "execution_count": 3,
      "outputs": [
        {
          "output_type": "execute_result",
          "data": {
            "text/html": [
              "<div>\n",
              "<style scoped>\n",
              "    .dataframe tbody tr th:only-of-type {\n",
              "        vertical-align: middle;\n",
              "    }\n",
              "\n",
              "    .dataframe tbody tr th {\n",
              "        vertical-align: top;\n",
              "    }\n",
              "\n",
              "    .dataframe thead th {\n",
              "        text-align: right;\n",
              "    }\n",
              "</style>\n",
              "<table border=\"1\" class=\"dataframe\">\n",
              "  <thead>\n",
              "    <tr style=\"text-align: right;\">\n",
              "      <th></th>\n",
              "      <th>AGE</th>\n",
              "      <th>SEX</th>\n",
              "      <th>BMI</th>\n",
              "      <th>BP</th>\n",
              "      <th>S1</th>\n",
              "      <th>S2</th>\n",
              "      <th>S3</th>\n",
              "      <th>S4</th>\n",
              "      <th>S5</th>\n",
              "      <th>S6</th>\n",
              "      <th>Y</th>\n",
              "    </tr>\n",
              "  </thead>\n",
              "  <tbody>\n",
              "    <tr>\n",
              "      <th>0</th>\n",
              "      <td>59</td>\n",
              "      <td>2</td>\n",
              "      <td>32.1</td>\n",
              "      <td>101.0</td>\n",
              "      <td>157</td>\n",
              "      <td>93.2</td>\n",
              "      <td>38.0</td>\n",
              "      <td>4.0</td>\n",
              "      <td>4.8598</td>\n",
              "      <td>87</td>\n",
              "      <td>151</td>\n",
              "    </tr>\n",
              "    <tr>\n",
              "      <th>1</th>\n",
              "      <td>48</td>\n",
              "      <td>1</td>\n",
              "      <td>21.6</td>\n",
              "      <td>87.0</td>\n",
              "      <td>183</td>\n",
              "      <td>103.2</td>\n",
              "      <td>70.0</td>\n",
              "      <td>3.0</td>\n",
              "      <td>3.8918</td>\n",
              "      <td>69</td>\n",
              "      <td>75</td>\n",
              "    </tr>\n",
              "    <tr>\n",
              "      <th>2</th>\n",
              "      <td>72</td>\n",
              "      <td>2</td>\n",
              "      <td>30.5</td>\n",
              "      <td>93.0</td>\n",
              "      <td>156</td>\n",
              "      <td>93.6</td>\n",
              "      <td>41.0</td>\n",
              "      <td>4.0</td>\n",
              "      <td>4.6728</td>\n",
              "      <td>85</td>\n",
              "      <td>141</td>\n",
              "    </tr>\n",
              "    <tr>\n",
              "      <th>3</th>\n",
              "      <td>24</td>\n",
              "      <td>1</td>\n",
              "      <td>25.3</td>\n",
              "      <td>84.0</td>\n",
              "      <td>198</td>\n",
              "      <td>131.4</td>\n",
              "      <td>40.0</td>\n",
              "      <td>5.0</td>\n",
              "      <td>4.8903</td>\n",
              "      <td>89</td>\n",
              "      <td>206</td>\n",
              "    </tr>\n",
              "    <tr>\n",
              "      <th>4</th>\n",
              "      <td>50</td>\n",
              "      <td>1</td>\n",
              "      <td>23.0</td>\n",
              "      <td>101.0</td>\n",
              "      <td>192</td>\n",
              "      <td>125.4</td>\n",
              "      <td>52.0</td>\n",
              "      <td>4.0</td>\n",
              "      <td>4.2905</td>\n",
              "      <td>80</td>\n",
              "      <td>135</td>\n",
              "    </tr>\n",
              "  </tbody>\n",
              "</table>\n",
              "</div>"
            ],
            "text/plain": [
              "   AGE  SEX   BMI     BP   S1     S2    S3   S4      S5  S6    Y\n",
              "0   59    2  32.1  101.0  157   93.2  38.0  4.0  4.8598  87  151\n",
              "1   48    1  21.6   87.0  183  103.2  70.0  3.0  3.8918  69   75\n",
              "2   72    2  30.5   93.0  156   93.6  41.0  4.0  4.6728  85  141\n",
              "3   24    1  25.3   84.0  198  131.4  40.0  5.0  4.8903  89  206\n",
              "4   50    1  23.0  101.0  192  125.4  52.0  4.0  4.2905  80  135"
            ]
          },
          "metadata": {},
          "execution_count": 3
        }
      ]
    },
    {
      "cell_type": "markdown",
      "metadata": {
        "id": "KBnYyUhGGqXj"
      },
      "source": [
        "The sklearn's load_diabetes() dataset is using the same source in this example. The difference is load_diabetes() returns standardized data, while this example works from scratch.\n",
        "\n",
        "#### Dataset feeatures\n",
        "- age: age in years\n",
        "- sex\n",
        "- bmi: body mass index\n",
        "- bp: average blood pressure\n",
        "- s1: tc, T-Cells (a type of white blood cells)\n",
        "- s2: ldl, low-density lipoproteins\n",
        "- s3: hdl, high-density lipoproteins\n",
        "- s4: tch, thyroid stimulating hormone\n",
        "- s5: ltg, lamotrigine\n",
        "- s6: glu, blood sugar level\n",
        "\n",
        "#### Target (Y column)\n",
        "As you can see from the full description below, the dataset aims to predict the quantitative measure of disease progression."
      ]
    },
    {
      "cell_type": "code",
      "metadata": {
        "id": "rirkUU6GGqXk",
        "outputId": "3cef74ae-85e2-48f3-a15d-68379604225b",
        "colab": {
          "base_uri": "https://localhost:8080/"
        }
      },
      "source": [
        "# View full description\n",
        "for line in datasets.load_diabetes()['DESCR'].split('\\n'):\n",
        "    print(line)"
      ],
      "execution_count": 4,
      "outputs": [
        {
          "output_type": "stream",
          "name": "stdout",
          "text": [
            ".. _diabetes_dataset:\n",
            "\n",
            "Diabetes dataset\n",
            "----------------\n",
            "\n",
            "Ten baseline variables, age, sex, body mass index, average blood\n",
            "pressure, and six blood serum measurements were obtained for each of n =\n",
            "442 diabetes patients, as well as the response of interest, a\n",
            "quantitative measure of disease progression one year after baseline.\n",
            "\n",
            "**Data Set Characteristics:**\n",
            "\n",
            "  :Number of Instances: 442\n",
            "\n",
            "  :Number of Attributes: First 10 columns are numeric predictive values\n",
            "\n",
            "  :Target: Column 11 is a quantitative measure of disease progression one year after baseline\n",
            "\n",
            "  :Attribute Information:\n",
            "      - Age\n",
            "      - Sex\n",
            "      - Body mass index\n",
            "      - Average blood pressure\n",
            "      - S1\n",
            "      - S2\n",
            "      - S3\n",
            "      - S4\n",
            "      - S5\n",
            "      - S6\n",
            "\n",
            "Note: Each of these 10 feature variables have been mean centered and scaled by the standard deviation times `n_samples` (i.e. the sum of squares of each column totals 1).\n",
            "\n",
            "Source URL:\n",
            "https://www4.stat.ncsu.edu/~boos/var.select/diabetes.html\n",
            "\n",
            "For more information see:\n",
            "Bradley Efron, Trevor Hastie, Iain Johnstone and Robert Tibshirani (2004) \"Least Angle Regression,\" Annals of Statistics (with discussion), 407-499.\n",
            "(https://web.stanford.edu/~hastie/Papers/LARS/LeastAngle_2002.pdf)\n"
          ]
        }
      ]
    },
    {
      "cell_type": "markdown",
      "metadata": {
        "id": "ecD7Bi9lGqXl"
      },
      "source": [
        "## Prepare data"
      ]
    },
    {
      "cell_type": "markdown",
      "metadata": {
        "id": "ySSVDBeIGqXm"
      },
      "source": [
        "Group the age column according to range"
      ]
    },
    {
      "cell_type": "code",
      "metadata": {
        "id": "BtkVUIlUGqXm",
        "outputId": "afe5695d-dedc-44ac-8078-e516eb0a0178",
        "colab": {
          "base_uri": "https://localhost:8080/"
        }
      },
      "source": [
        "age = df['AGE']\n",
        "print(min(age), max(age))"
      ],
      "execution_count": 6,
      "outputs": [
        {
          "output_type": "stream",
          "name": "stdout",
          "text": [
            "19 79\n"
          ]
        }
      ]
    },
    {
      "cell_type": "markdown",
      "metadata": {
        "id": "kcdy6DmpGqXn"
      },
      "source": [
        "Let's set the low limit to be 10 and upper limit 80 according to the min and max value of the data.\n",
        "\n",
        "The labels are set according to the age group definition\n",
        "[Source](https://help.healthycities.org/hc/en-us/articles/219556208-How-are-the-different-age-groups-defined-)"
      ]
    },
    {
      "cell_type": "code",
      "metadata": {
        "id": "8RS_tZVhGqXn"
      },
      "source": [
        "# Set the bins\n",
        "bins = [10, 12, 17, 65, 80]\n",
        "age_labels = [\"children\", \"teens\", \"adults\", \"elderly\"]\n",
        "\n",
        "# perform range encoding\n",
        "age = pd.cut(age, bins=bins, labels=age_labels, include_lowest=True)\n",
        "age = pd.DataFrame(age)"
      ],
      "execution_count": 7,
      "outputs": []
    },
    {
      "cell_type": "code",
      "metadata": {
        "id": "3RGZZokiGqXn",
        "outputId": "26a6166c-3ecb-4857-8254-b16de9c077e9",
        "colab": {
          "base_uri": "https://localhost:8080/",
          "height": 204
        }
      },
      "source": [
        "age.head()"
      ],
      "execution_count": 8,
      "outputs": [
        {
          "output_type": "execute_result",
          "data": {
            "text/html": [
              "<div>\n",
              "<style scoped>\n",
              "    .dataframe tbody tr th:only-of-type {\n",
              "        vertical-align: middle;\n",
              "    }\n",
              "\n",
              "    .dataframe tbody tr th {\n",
              "        vertical-align: top;\n",
              "    }\n",
              "\n",
              "    .dataframe thead th {\n",
              "        text-align: right;\n",
              "    }\n",
              "</style>\n",
              "<table border=\"1\" class=\"dataframe\">\n",
              "  <thead>\n",
              "    <tr style=\"text-align: right;\">\n",
              "      <th></th>\n",
              "      <th>AGE</th>\n",
              "    </tr>\n",
              "  </thead>\n",
              "  <tbody>\n",
              "    <tr>\n",
              "      <th>0</th>\n",
              "      <td>adults</td>\n",
              "    </tr>\n",
              "    <tr>\n",
              "      <th>1</th>\n",
              "      <td>adults</td>\n",
              "    </tr>\n",
              "    <tr>\n",
              "      <th>2</th>\n",
              "      <td>elderly</td>\n",
              "    </tr>\n",
              "    <tr>\n",
              "      <th>3</th>\n",
              "      <td>adults</td>\n",
              "    </tr>\n",
              "    <tr>\n",
              "      <th>4</th>\n",
              "      <td>adults</td>\n",
              "    </tr>\n",
              "  </tbody>\n",
              "</table>\n",
              "</div>"
            ],
            "text/plain": [
              "       AGE\n",
              "0   adults\n",
              "1   adults\n",
              "2  elderly\n",
              "3   adults\n",
              "4   adults"
            ]
          },
          "metadata": {},
          "execution_count": 8
        }
      ]
    },
    {
      "cell_type": "markdown",
      "metadata": {
        "id": "a326OJeSGqXo"
      },
      "source": [
        "### One-hot encoding\n",
        "\n",
        "After grouping the age data, perform one-hot encoding."
      ]
    },
    {
      "cell_type": "code",
      "metadata": {
        "id": "XGBdP_prGqXo",
        "outputId": "f8cebf61-d8e9-470f-bd57-3361b66ee201",
        "colab": {
          "base_uri": "https://localhost:8080/",
          "height": 204
        }
      },
      "source": [
        "age = pd.get_dummies(age)\n",
        "\n",
        "# use rename() to change the new column name\n",
        "gender = pd.get_dummies(df[\"SEX\"]).rename(columns={1:\"gender1\", 2:\"gender2\"})\n",
        "\n",
        "gender.head()"
      ],
      "execution_count": 13,
      "outputs": [
        {
          "output_type": "execute_result",
          "data": {
            "text/html": [
              "<div>\n",
              "<style scoped>\n",
              "    .dataframe tbody tr th:only-of-type {\n",
              "        vertical-align: middle;\n",
              "    }\n",
              "\n",
              "    .dataframe tbody tr th {\n",
              "        vertical-align: top;\n",
              "    }\n",
              "\n",
              "    .dataframe thead th {\n",
              "        text-align: right;\n",
              "    }\n",
              "</style>\n",
              "<table border=\"1\" class=\"dataframe\">\n",
              "  <thead>\n",
              "    <tr style=\"text-align: right;\">\n",
              "      <th></th>\n",
              "      <th>gender1</th>\n",
              "      <th>gender2</th>\n",
              "    </tr>\n",
              "  </thead>\n",
              "  <tbody>\n",
              "    <tr>\n",
              "      <th>0</th>\n",
              "      <td>0</td>\n",
              "      <td>1</td>\n",
              "    </tr>\n",
              "    <tr>\n",
              "      <th>1</th>\n",
              "      <td>1</td>\n",
              "      <td>0</td>\n",
              "    </tr>\n",
              "    <tr>\n",
              "      <th>2</th>\n",
              "      <td>0</td>\n",
              "      <td>1</td>\n",
              "    </tr>\n",
              "    <tr>\n",
              "      <th>3</th>\n",
              "      <td>1</td>\n",
              "      <td>0</td>\n",
              "    </tr>\n",
              "    <tr>\n",
              "      <th>4</th>\n",
              "      <td>1</td>\n",
              "      <td>0</td>\n",
              "    </tr>\n",
              "  </tbody>\n",
              "</table>\n",
              "</div>"
            ],
            "text/plain": [
              "   gender1  gender2\n",
              "0        0        1\n",
              "1        1        0\n",
              "2        0        1\n",
              "3        1        0\n",
              "4        1        0"
            ]
          },
          "metadata": {},
          "execution_count": 13
        }
      ]
    },
    {
      "cell_type": "markdown",
      "metadata": {
        "id": "wpdzSzilGqXp"
      },
      "source": [
        "### Normalize data"
      ]
    },
    {
      "cell_type": "markdown",
      "metadata": {
        "id": "-GLO2FefGqXp"
      },
      "source": [
        "Use sklearn MinMaxScaler for to normalize data"
      ]
    },
    {
      "cell_type": "code",
      "metadata": {
        "id": "0OiuGmu7GqXp"
      },
      "source": [
        "scaler = preprocessing.MinMaxScaler()\n",
        "df_to_scale = df.drop([\"AGE\", \"SEX\"],axis=1)\n",
        "df_scaled = scaler.fit_transform(df_to_scale)\n",
        "\n",
        "column_names = [\"BMI\",\"BP\",\"S1\",\"S2\",\"S3\",\"S4\",\"S5\",\"S6\",\"Y\"]\n",
        "df_scaled = pd.DataFrame(df_scaled, columns=column_names)"
      ],
      "execution_count": 14,
      "outputs": []
    },
    {
      "cell_type": "code",
      "metadata": {
        "id": "nOY2ZaIpGqXp",
        "outputId": "2e787882-7f12-4db1-e207-8a9d0d1929ee",
        "colab": {
          "base_uri": "https://localhost:8080/",
          "height": 204
        }
      },
      "source": [
        "df_scaled.head()"
      ],
      "execution_count": 15,
      "outputs": [
        {
          "output_type": "execute_result",
          "data": {
            "text/html": [
              "<div>\n",
              "<style scoped>\n",
              "    .dataframe tbody tr th:only-of-type {\n",
              "        vertical-align: middle;\n",
              "    }\n",
              "\n",
              "    .dataframe tbody tr th {\n",
              "        vertical-align: top;\n",
              "    }\n",
              "\n",
              "    .dataframe thead th {\n",
              "        text-align: right;\n",
              "    }\n",
              "</style>\n",
              "<table border=\"1\" class=\"dataframe\">\n",
              "  <thead>\n",
              "    <tr style=\"text-align: right;\">\n",
              "      <th></th>\n",
              "      <th>BMI</th>\n",
              "      <th>BP</th>\n",
              "      <th>S1</th>\n",
              "      <th>S2</th>\n",
              "      <th>S3</th>\n",
              "      <th>S4</th>\n",
              "      <th>S5</th>\n",
              "      <th>S6</th>\n",
              "      <th>Y</th>\n",
              "    </tr>\n",
              "  </thead>\n",
              "  <tbody>\n",
              "    <tr>\n",
              "      <th>0</th>\n",
              "      <td>0.582645</td>\n",
              "      <td>0.549296</td>\n",
              "      <td>0.294118</td>\n",
              "      <td>0.256972</td>\n",
              "      <td>0.207792</td>\n",
              "      <td>0.282087</td>\n",
              "      <td>0.562217</td>\n",
              "      <td>0.439394</td>\n",
              "      <td>0.392523</td>\n",
              "    </tr>\n",
              "    <tr>\n",
              "      <th>1</th>\n",
              "      <td>0.148760</td>\n",
              "      <td>0.352113</td>\n",
              "      <td>0.421569</td>\n",
              "      <td>0.306773</td>\n",
              "      <td>0.623377</td>\n",
              "      <td>0.141044</td>\n",
              "      <td>0.222437</td>\n",
              "      <td>0.166667</td>\n",
              "      <td>0.155763</td>\n",
              "    </tr>\n",
              "    <tr>\n",
              "      <th>2</th>\n",
              "      <td>0.516529</td>\n",
              "      <td>0.436620</td>\n",
              "      <td>0.289216</td>\n",
              "      <td>0.258964</td>\n",
              "      <td>0.246753</td>\n",
              "      <td>0.282087</td>\n",
              "      <td>0.496578</td>\n",
              "      <td>0.409091</td>\n",
              "      <td>0.361371</td>\n",
              "    </tr>\n",
              "    <tr>\n",
              "      <th>3</th>\n",
              "      <td>0.301653</td>\n",
              "      <td>0.309859</td>\n",
              "      <td>0.495098</td>\n",
              "      <td>0.447211</td>\n",
              "      <td>0.233766</td>\n",
              "      <td>0.423131</td>\n",
              "      <td>0.572923</td>\n",
              "      <td>0.469697</td>\n",
              "      <td>0.563863</td>\n",
              "    </tr>\n",
              "    <tr>\n",
              "      <th>4</th>\n",
              "      <td>0.206612</td>\n",
              "      <td>0.549296</td>\n",
              "      <td>0.465686</td>\n",
              "      <td>0.417331</td>\n",
              "      <td>0.389610</td>\n",
              "      <td>0.282087</td>\n",
              "      <td>0.362385</td>\n",
              "      <td>0.333333</td>\n",
              "      <td>0.342679</td>\n",
              "    </tr>\n",
              "  </tbody>\n",
              "</table>\n",
              "</div>"
            ],
            "text/plain": [
              "        BMI        BP        S1  ...        S5        S6         Y\n",
              "0  0.582645  0.549296  0.294118  ...  0.562217  0.439394  0.392523\n",
              "1  0.148760  0.352113  0.421569  ...  0.222437  0.166667  0.155763\n",
              "2  0.516529  0.436620  0.289216  ...  0.496578  0.409091  0.361371\n",
              "3  0.301653  0.309859  0.495098  ...  0.572923  0.469697  0.563863\n",
              "4  0.206612  0.549296  0.465686  ...  0.362385  0.333333  0.342679\n",
              "\n",
              "[5 rows x 9 columns]"
            ]
          },
          "metadata": {},
          "execution_count": 15
        }
      ]
    },
    {
      "cell_type": "markdown",
      "metadata": {
        "id": "juXvKm8wGqXq"
      },
      "source": [
        "### Combine all data"
      ]
    },
    {
      "cell_type": "code",
      "metadata": {
        "id": "ZifmdUvdGqXq"
      },
      "source": [
        "df = pd.concat([age, gender, df_scaled], axis=1)"
      ],
      "execution_count": 16,
      "outputs": []
    },
    {
      "cell_type": "code",
      "metadata": {
        "id": "9sDOVaJ5GqXq",
        "outputId": "28ed6673-cbde-434c-9b4b-1cbc15ea732e",
        "colab": {
          "base_uri": "https://localhost:8080/",
          "height": 204
        }
      },
      "source": [
        "df.head()"
      ],
      "execution_count": 17,
      "outputs": [
        {
          "output_type": "execute_result",
          "data": {
            "text/html": [
              "<div>\n",
              "<style scoped>\n",
              "    .dataframe tbody tr th:only-of-type {\n",
              "        vertical-align: middle;\n",
              "    }\n",
              "\n",
              "    .dataframe tbody tr th {\n",
              "        vertical-align: top;\n",
              "    }\n",
              "\n",
              "    .dataframe thead th {\n",
              "        text-align: right;\n",
              "    }\n",
              "</style>\n",
              "<table border=\"1\" class=\"dataframe\">\n",
              "  <thead>\n",
              "    <tr style=\"text-align: right;\">\n",
              "      <th></th>\n",
              "      <th>AGE_children</th>\n",
              "      <th>AGE_teens</th>\n",
              "      <th>AGE_adults</th>\n",
              "      <th>AGE_elderly</th>\n",
              "      <th>gender1</th>\n",
              "      <th>gender2</th>\n",
              "      <th>BMI</th>\n",
              "      <th>BP</th>\n",
              "      <th>S1</th>\n",
              "      <th>S2</th>\n",
              "      <th>S3</th>\n",
              "      <th>S4</th>\n",
              "      <th>S5</th>\n",
              "      <th>S6</th>\n",
              "      <th>Y</th>\n",
              "    </tr>\n",
              "  </thead>\n",
              "  <tbody>\n",
              "    <tr>\n",
              "      <th>0</th>\n",
              "      <td>0</td>\n",
              "      <td>0</td>\n",
              "      <td>1</td>\n",
              "      <td>0</td>\n",
              "      <td>0</td>\n",
              "      <td>1</td>\n",
              "      <td>0.582645</td>\n",
              "      <td>0.549296</td>\n",
              "      <td>0.294118</td>\n",
              "      <td>0.256972</td>\n",
              "      <td>0.207792</td>\n",
              "      <td>0.282087</td>\n",
              "      <td>0.562217</td>\n",
              "      <td>0.439394</td>\n",
              "      <td>0.392523</td>\n",
              "    </tr>\n",
              "    <tr>\n",
              "      <th>1</th>\n",
              "      <td>0</td>\n",
              "      <td>0</td>\n",
              "      <td>1</td>\n",
              "      <td>0</td>\n",
              "      <td>1</td>\n",
              "      <td>0</td>\n",
              "      <td>0.148760</td>\n",
              "      <td>0.352113</td>\n",
              "      <td>0.421569</td>\n",
              "      <td>0.306773</td>\n",
              "      <td>0.623377</td>\n",
              "      <td>0.141044</td>\n",
              "      <td>0.222437</td>\n",
              "      <td>0.166667</td>\n",
              "      <td>0.155763</td>\n",
              "    </tr>\n",
              "    <tr>\n",
              "      <th>2</th>\n",
              "      <td>0</td>\n",
              "      <td>0</td>\n",
              "      <td>0</td>\n",
              "      <td>1</td>\n",
              "      <td>0</td>\n",
              "      <td>1</td>\n",
              "      <td>0.516529</td>\n",
              "      <td>0.436620</td>\n",
              "      <td>0.289216</td>\n",
              "      <td>0.258964</td>\n",
              "      <td>0.246753</td>\n",
              "      <td>0.282087</td>\n",
              "      <td>0.496578</td>\n",
              "      <td>0.409091</td>\n",
              "      <td>0.361371</td>\n",
              "    </tr>\n",
              "    <tr>\n",
              "      <th>3</th>\n",
              "      <td>0</td>\n",
              "      <td>0</td>\n",
              "      <td>1</td>\n",
              "      <td>0</td>\n",
              "      <td>1</td>\n",
              "      <td>0</td>\n",
              "      <td>0.301653</td>\n",
              "      <td>0.309859</td>\n",
              "      <td>0.495098</td>\n",
              "      <td>0.447211</td>\n",
              "      <td>0.233766</td>\n",
              "      <td>0.423131</td>\n",
              "      <td>0.572923</td>\n",
              "      <td>0.469697</td>\n",
              "      <td>0.563863</td>\n",
              "    </tr>\n",
              "    <tr>\n",
              "      <th>4</th>\n",
              "      <td>0</td>\n",
              "      <td>0</td>\n",
              "      <td>1</td>\n",
              "      <td>0</td>\n",
              "      <td>1</td>\n",
              "      <td>0</td>\n",
              "      <td>0.206612</td>\n",
              "      <td>0.549296</td>\n",
              "      <td>0.465686</td>\n",
              "      <td>0.417331</td>\n",
              "      <td>0.389610</td>\n",
              "      <td>0.282087</td>\n",
              "      <td>0.362385</td>\n",
              "      <td>0.333333</td>\n",
              "      <td>0.342679</td>\n",
              "    </tr>\n",
              "  </tbody>\n",
              "</table>\n",
              "</div>"
            ],
            "text/plain": [
              "   AGE_children  AGE_teens  AGE_adults  ...        S5        S6         Y\n",
              "0             0          0           1  ...  0.562217  0.439394  0.392523\n",
              "1             0          0           1  ...  0.222437  0.166667  0.155763\n",
              "2             0          0           0  ...  0.496578  0.409091  0.361371\n",
              "3             0          0           1  ...  0.572923  0.469697  0.563863\n",
              "4             0          0           1  ...  0.362385  0.333333  0.342679\n",
              "\n",
              "[5 rows x 15 columns]"
            ]
          },
          "metadata": {},
          "execution_count": 17
        }
      ]
    },
    {
      "cell_type": "markdown",
      "metadata": {
        "id": "Nz6KP-m4GqXq"
      },
      "source": [
        "## Summary of Data Preparation\n",
        "- Change continuous variable to ordinal variable\n",
        "\n",
        "We convert age into age groups and give them labels\n",
        "\n",
        "- One-hot encoding\n",
        "\n",
        "Both age and gender are converted to one-hot encoding. \n",
        "\n",
        "- Normalize data\n",
        "\n",
        "Other data are scaled using the sklearn min-max algorithm which normalizes according to the minimum and maximum data\n",
        "\n",
        "Now, the data is ready for training"
      ]
    },
    {
      "cell_type": "code",
      "metadata": {
        "id": "pzyNRE1BGqXr"
      },
      "source": [
        "# Split data and target\n",
        "data = df.drop([\"Y\"], axis=1)\n",
        "target = df[\"Y\"]"
      ],
      "execution_count": 18,
      "outputs": []
    },
    {
      "cell_type": "code",
      "metadata": {
        "id": "t35s-8DSGqXr"
      },
      "source": [
        "data = data.astype(dtype=np.float32)\n",
        "target = target.astype(dtype=np.float32)"
      ],
      "execution_count": 19,
      "outputs": []
    },
    {
      "cell_type": "code",
      "metadata": {
        "id": "WhJ6iICRGqXr"
      },
      "source": [
        "X_train, X_test, y_train, y_test = train_test_split(data, target, test_size=0.3, random_state=123)"
      ],
      "execution_count": 20,
      "outputs": []
    },
    {
      "cell_type": "markdown",
      "metadata": {
        "id": "zv_DMtFcGqXr"
      },
      "source": [
        "## Train model"
      ]
    },
    {
      "cell_type": "code",
      "metadata": {
        "id": "PSOeZA_CGqXr"
      },
      "source": [
        "model = LinearRegression()"
      ],
      "execution_count": 21,
      "outputs": []
    },
    {
      "cell_type": "markdown",
      "metadata": {
        "id": "ODATzO_PGqXs"
      },
      "source": [
        "perform training"
      ]
    },
    {
      "cell_type": "code",
      "metadata": {
        "id": "JErQZVgaGqXs",
        "outputId": "a5cb5bb4-e7bc-4c92-d4d4-cd2d7a8a2b37",
        "colab": {
          "base_uri": "https://localhost:8080/"
        }
      },
      "source": [
        "model.fit(X_train,y_train)"
      ],
      "execution_count": 22,
      "outputs": [
        {
          "output_type": "execute_result",
          "data": {
            "text/plain": [
              "LinearRegression(copy_X=True, fit_intercept=True, n_jobs=None, normalize=False)"
            ]
          },
          "metadata": {},
          "execution_count": 22
        }
      ]
    },
    {
      "cell_type": "markdown",
      "metadata": {
        "id": "8T7Mu23GGqXs"
      },
      "source": [
        "## Evaluate"
      ]
    },
    {
      "cell_type": "markdown",
      "metadata": {
        "id": "zrDqEUwZGqXs"
      },
      "source": [
        "### Train Error\n",
        "Evaluate model using train data"
      ]
    },
    {
      "cell_type": "code",
      "metadata": {
        "id": "FSys5qpQGqXs"
      },
      "source": [
        "predictions = model.predict(X_train)"
      ],
      "execution_count": 26,
      "outputs": []
    },
    {
      "cell_type": "code",
      "metadata": {
        "id": "qoyN9JXTGqXt",
        "outputId": "304a8af9-63d5-40e1-fc89-e6e27a692bce",
        "colab": {
          "base_uri": "https://localhost:8080/"
        }
      },
      "source": [
        "print('MAE:', metrics.mean_absolute_error(y_train, predictions))\n",
        "print('MSE:', metrics.mean_squared_error(y_train, predictions))\n",
        "print('RMSE:', np.sqrt(metrics.mean_squared_error(y_train, predictions)))"
      ],
      "execution_count": 27,
      "outputs": [
        {
          "output_type": "stream",
          "name": "stdout",
          "text": [
            "MAE: 0.13475773\n",
            "MSE: 0.028118646\n",
            "RMSE: 0.16768615\n"
          ]
        }
      ]
    },
    {
      "cell_type": "markdown",
      "metadata": {
        "id": "eFywotSSGqXt"
      },
      "source": [
        "### Test Error\n",
        "Evaluate model using test data"
      ]
    },
    {
      "cell_type": "code",
      "metadata": {
        "id": "gWicG5VLGqXt"
      },
      "source": [
        "prediction = model.predict(X_test)"
      ],
      "execution_count": 28,
      "outputs": []
    },
    {
      "cell_type": "code",
      "metadata": {
        "id": "XjuBdWNeGqXt",
        "outputId": "7b760cd3-a2ca-4b61-99b9-8f2b823caa9b",
        "colab": {
          "base_uri": "https://localhost:8080/"
        }
      },
      "source": [
        "print('MAE:', metrics.mean_absolute_error(y_test, prediction))\n",
        "print('MSE:', metrics.mean_squared_error(y_test, prediction))\n",
        "print('RMSE:', np.sqrt(metrics.mean_squared_error(y_test, prediction)))"
      ],
      "execution_count": 31,
      "outputs": [
        {
          "output_type": "stream",
          "name": "stdout",
          "text": [
            "MAE: 0.14396206\n",
            "MSE: 0.029877508\n",
            "RMSE: 0.17285112\n"
          ]
        }
      ]
    },
    {
      "cell_type": "markdown",
      "metadata": {
        "id": "FnHqfx47GqXt"
      },
      "source": [
        "# Model evaluation\n",
        "Evaluation is done to monitor the performance of the trained model. The performance shows how well the model learns the data. \n",
        "\n",
        "There are three conditions to monitor\n",
        "\n",
        "### Underfitting\n",
        "In this condition, the model has not learned enough about training data. A simple example is using a straight line to model non-linear data. The line will not be able to describe the data.\n",
        "\n",
        "In the case of regression, underfitting is when the training and testing errors are large.\n",
        "\n",
        "### Overfitting\n",
        "In this condition, the model has learned too much training data, which consists of good data and noise. In other words, the model \"memorise\" the data. This condition is undesirable as noise is not what we want the model to learn. It will perform well on training data but not unseen data.\n",
        "\n",
        "In the case of regression, overfitting is when the training error is very low, and the test error is large.\n",
        "\n",
        "### Generalize well\n",
        "This is the desired condition for a model. It shows that the model can learn the training data and perform good predictions for the testing data.\n",
        "\n",
        "__In this example, both training and testing errors are low, which shows that the model generalizes the data well.__"
      ]
    }
  ]
}